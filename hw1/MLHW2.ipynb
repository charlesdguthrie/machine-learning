{
 "metadata": {
  "name": "",
  "signature": "sha256:1cb0abdbcce73c3abd2f2576177a96e1522dd6557921959414789a728efd035e"
 },
 "nbformat": 3,
 "nbformat_minor": 0,
 "worksheets": []
}