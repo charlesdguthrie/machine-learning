{
 "metadata": {
  "name": "",
  "signature": "sha256:d348db02ccc1af0303d5a0a5dc083d34fb2a87aabe1a0819713eaff159eaa578"
 },
 "nbformat": 3,
 "nbformat_minor": 0,
 "worksheets": [
  {
   "cells": [
    {
     "cell_type": "markdown",
     "metadata": {},
     "source": [
      "---\n",
      "#Machine Learning and Computational Statistics, Sprint 2015 Homework 3: SVM and Sentiment Analysis\n",
      "---\n",
      "###Charlie Guthrie\n",
      "Due Monday, Feb 23, 2015 at 4pm.  "
     ]
    },
    {
     "cell_type": "markdown",
     "metadata": {},
     "source": [
      "#1 Introduction"
     ]
    },
    {
     "cell_type": "code",
     "collapsed": false,
     "input": [
      "#Prep\n",
      "import os\n",
      "import numpy as np\n",
      "import pandas as pd\n",
      "import pickle\n",
      "import random\n",
      "import collections\n",
      "from datetime import datetime\n",
      "import matplotlib.pyplot as plt\n",
      "%matplotlib inline\n",
      "#pd.options.display.mpl_style = 'default'"
     ],
     "language": "python",
     "metadata": {},
     "outputs": [],
     "prompt_number": 299
    },
    {
     "cell_type": "code",
     "collapsed": false,
     "input": [
      "start = datetime.now()"
     ],
     "language": "python",
     "metadata": {},
     "outputs": [],
     "prompt_number": 190
    },
    {
     "cell_type": "code",
     "collapsed": false,
     "input": [
      "finish = datetime.now()\n",
      "delta = finish-start\n",
      "delta.seconds"
     ],
     "language": "python",
     "metadata": {},
     "outputs": [
      {
       "metadata": {},
       "output_type": "pyout",
       "prompt_number": 192,
       "text": [
        "12"
       ]
      }
     ],
     "prompt_number": 192
    },
    {
     "cell_type": "markdown",
     "metadata": {},
     "source": [
      "#2 The Data\n",
      "\n",
      "1. Load all the data and randomly split it into 1500 training examples and 500 test examples."
     ]
    },
    {
     "cell_type": "code",
     "collapsed": false,
     "input": [
      "def folder_list(path,label):\n",
      "    '''\n",
      "    Take path to a directory, apply the label the contained documents,\n",
      "    and return the list of documents\n",
      "    PARAMETER PATH IS THE PATH OF YOUR LOCAL FOLDER\n",
      "    Label is positive or negative\n",
      "    '''\n",
      "    filelist = os.listdir(path)\n",
      "    review = []\n",
      "    for infile in filelist:\n",
      "        file = os.path.join(path,infile)\n",
      "        r = read_data(file)\n",
      "        r.append(label)\n",
      "        review.append(r)\n",
      "    return review\n",
      "\n",
      "def read_data(file):\n",
      "    '''\n",
      "    Read each file into a list of strings. \n",
      "    Example:\n",
      "    [\"it's\", 'a', 'curious', 'thing', \"i've\", 'found', 'that', 'when', 'willis', 'is', 'not', 'called', 'on', \n",
      "    ...'to', 'carry', 'the', 'whole', 'movie', \"he's\", 'much', 'better', 'and', 'so', 'is', 'the', 'movie']\n",
      "    '''\n",
      "    f = open(file)\n",
      "    lines = f.read().split(' ')\n",
      "    symbols = '${}()[].,:;+-*/&|<>=~\"_`\\' '\n",
      "    words = map(lambda Element: Element.translate(None, symbols).strip(), lines)\n",
      "    words = filter(None, words)\n",
      "    return words\n",
      "    \n",
      "def train_test_split(data,pivot_index):\n",
      "    '''\n",
      "    split list of documents into training and test sets\n",
      "    '''\n",
      "    random.shuffle(data)\n",
      "    train = data[:pivot_index]\n",
      "    test = data[pivot_index:]\n",
      "    assert len(train)==pivot_index, \"Training set is not proper length\"\n",
      "    return train,test\n",
      "\n",
      "def load_data():\n",
      "    '''\n",
      "    pos_path is where you save positive review data.\n",
      "    neg_path is where you save negative review data.\n",
      "    '''\n",
      "    home_dir = os.getcwd()\n",
      "    pos_path = os.path.join(home_dir,\"data/pos\")\n",
      "    neg_path = os.path.join(home_dir,\"data/neg\")\n",
      "\n",
      "    pos_review = folder_list(pos_path,1)\n",
      "    neg_review = folder_list(neg_path,-1)\n",
      "\n",
      "    review = pos_review + neg_review\n",
      "    return train_test_split(review,1500)\n",
      "\n",
      "train,test = load_data()"
     ],
     "language": "python",
     "metadata": {},
     "outputs": [],
     "prompt_number": 136
    },
    {
     "cell_type": "markdown",
     "metadata": {},
     "source": [
      "---\n",
      "#3 Sparse Representations\n",
      "1. Write a function that converts an example (e.g. list of words) into a sparse bag-of-words representation.  \n",
      ">See next cell\n",
      "\n",
      "1. Write a version of `generic_gradient_checker` from Homework 1 that works with sparse vectors represented as dict types.  Since we'll be using it for stochastic methods, it should take a single $(x,y)$ pair, rather than the entire dataset.  Be sure to use the dotProduct and increment primitives we provide, or make your own. \n",
      ">See next cell"
     ]
    },
    {
     "cell_type": "code",
     "collapsed": false,
     "input": [
      "#############\n",
      "#Question 3.1\n",
      "\n",
      "def lists2bags(lists):\n",
      "    bags = []\n",
      "    labels = []\n",
      "    for review in lists:\n",
      "        #don't include the review's label\n",
      "        bag = collections.Counter(review[:-1])\n",
      "        bags.append(bag)\n",
      "        labels.append(review[-1])\n",
      "    return bags,labels"
     ],
     "language": "python",
     "metadata": {},
     "outputs": [],
     "prompt_number": 137
    },
    {
     "cell_type": "code",
     "collapsed": false,
     "input": [
      "def count_corpus_words(X):\n",
      "    '''count words in entire corpus'''\n",
      "    c = collections.Counter()\n",
      "    for review in X:\n",
      "        c.update(review)\n",
      "    return c\n",
      "\n",
      "def filter_w(min_occurrences):\n",
      "    '''\n",
      "    remove stopwords and single instances\n",
      "    Stopwords list from http://www.ranks.nl/stopwords\n",
      "    initialize w to zero\n",
      "    '''\n",
      "    full_dictionary = count_corpus_words(X)\n",
      "    f = open('stopwords.txt')\n",
      "    stopwords = f.read().split(',')\n",
      "    \n",
      "    w={}\n",
      "    for k, v in full_dictionary.items():\n",
      "        if v>min_occurrences and k not in stopwords:\n",
      "            w[k]=0\n",
      "    return w"
     ],
     "language": "python",
     "metadata": {},
     "outputs": [],
     "prompt_number": 172
    },
    {
     "cell_type": "code",
     "collapsed": false,
     "input": [
      "#############\n",
      "#Question 3.2\n",
      "\n",
      "def dotProduct(d1, d2):\n",
      "    \"\"\"\n",
      "    @param dict d1: a feature vector represented by a mapping from a feature (string) to a weight (float).\n",
      "    @param dict d2: same as d1\n",
      "    @return float: the dot product between d1 and d2\n",
      "    \"\"\"\n",
      "    if len(d1) < len(d2):\n",
      "        return dotProduct(d2, d1)\n",
      "    else:\n",
      "        return sum(d1.get(f, 0) * v for f, v in d2.items())\n",
      "\n",
      "def increment(d1, scale, d2):\n",
      "    \"\"\"\n",
      "    MODIFIED: Does not add keys to d1\n",
      "    Implements d1 += scale * d2 for sparse vectors.\n",
      "    @param dict d1: the feature vector which is mutated.\n",
      "    @param float scale\n",
      "    @param dict d2: a feature vector.\n",
      "    \"\"\"\n",
      "    for f, v in d2.items():\n",
      "        current_val = d1.get(f)\n",
      "        d1[f] = (current_val + v * scale) if current_val is not None\n",
      "\n",
      "def svm_stochastic_cost(x,y,w,Lambda):\n",
      "    \"\"\"\n",
      "    Given a set of X, y, theta, compute the square loss for predicting y with X*theta\n",
      "    \n",
      "    Args:\n",
      "        x - sparse feature dict\n",
      "        y - the label vector, 1D numpy array of size (num_instances)\n",
      "        w - sparse parameter dict\n",
      "        Lambda - regularization hyperparameter\n",
      "    \n",
      "    Returns:\n",
      "        loss - the square loss, scalar\n",
      "    \"\"\"        \n",
      "    return Lambda/2*dotProduct(w,w) + max(0,1-y*dotProduct(w,x))\n",
      "    \n",
      "def grad_checker(x, y, w, Lambda, obj_func,grad_func,epsilon=0.01, tolerance=1e-4): \n",
      "    \"\"\"Implement Gradient Checker\n",
      "    Check that the function compute_square_loss_gradient returns the\n",
      "    correct gradient for the given x, y, and theta.\n",
      "\n",
      "    Let d be the number of features. Here we numerically estimate the\n",
      "    gradient by approximating the directional derivative in each of\n",
      "    the d coordinate directions: \n",
      "    (e_1 = (1,0,0,...,0), e_2 = (0,1,0,...,0), ..., e_d = (0,...,0,1) \n",
      "\n",
      "    The approximation for the directional derivative of J at the point\n",
      "    theta in the direction e_i is given by: \n",
      "    ( J(theta + epsilon * e_i) - J(theta - epsilon * e_i) ) / (2*epsilon).\n",
      "\n",
      "    We then look at the Euclidean distance between the gradient\n",
      "    computed using this approximation and the gradient computed by\n",
      "    compute_square_loss_gradient(X, y, theta).  If the Euclidean\n",
      "    distance exceeds tolerance, we say the gradient is incorrect.\n",
      "\n",
      "    Args:\n",
      "        x - sparse feature dict\n",
      "        y - the label vector, 1D numpy array of size (num_instances)\n",
      "        w - sparse parameter dict\n",
      "        Lambda - regularization hyperparameter\n",
      "        epsilon - the epsilon used in approximation\n",
      "        tolerance - the tolerance error\n",
      "    \n",
      "    Return:\n",
      "        A boolean value indicate whether the gradient is correct or not\n",
      "\n",
      "    \"\"\" \n",
      "    \n",
      "    true_gradient = grad_func(x, y, w,Lambda) #the true gradient\n",
      "    approx_grad = {} #Initialize the gradient we approximate\n",
      "    dist = 0\n",
      "    for key in w:\n",
      "        w_plus = w.copy()\n",
      "        w_minus = w.copy()\n",
      "        w_plus[key]+= -epsilon\n",
      "        w_minus[key]+= epsilon\n",
      "    \n",
      "        approx_grad[key] = (obj_func(x,y,w_plus,Lambda) - obj_func(x,y,w_minus))*1.0 / (2.0*epsilon)\n",
      "        dist+=(approx_grad[key] - true_gradient[key])**2\n",
      "    \n",
      "    correct_grad = dist<tolerance\n",
      "    assert correct_grad, \"Gradient bad: dist %s is greater than tolerance %s\" % (dist,tolerance)\n",
      "    return correct_grad"
     ],
     "language": "python",
     "metadata": {},
     "outputs": [],
     "prompt_number": 23
    },
    {
     "cell_type": "markdown",
     "metadata": {},
     "source": [
      "#4 Support Vector Machine via Pegasos\n",
      "1. [Written] Compute a subgradient for the \"stochastic\" SVM objective, which assumes a single training point.  Show that if your step size rule is $\\eta_t = 1/(\\lambda t)$, then the corresponding SGD update is the same as given in the pseudocode.  \n",
      "> The objective function $J(w)$ for example $j$ is as follows:\n",
      ">\n",
      "$$J(w) = \\begin{cases}\n",
      "1-y_jw^Tx_j + \\frac{\\lambda}{2}||w||^2 & \\text{if $y_jw^Tx_j<1$}; \\\\\n",
      "\\frac{\\lambda}{2}||w||^2 & \\text{otherwise}.\n",
      "\\end{cases}$$\n",
      ">\n",
      ">Taking the gradients of both parts with respect to $w$, then:\n",
      ">\n",
      "$$\\nabla J(w) = \\begin{cases}\n",
      "\\lambda w - x_jy_j & \\text{if $y_jw^Tx_j<1$}; \\\\\n",
      "\\lambda w & \\text{otherwise}.\n",
      "\\end{cases}$$\n",
      ">\n",
      ">Updating $w$ according to the equation $w_{t+1}=w_t + \\eta_t\\nabla J(w_t)$, where $\\eta_t$ is step size, we have:\n",
      ">\n",
      "$$w_{t+1} = \\begin{cases}\n",
      "(1-\\eta_t\\lambda)w_t + \\eta_ty_jx_j & \\text{if $y_jw_t^Tx_j<1$}; \\\\\n",
      "(1-\\eta_t\\lambda)w_t & \\text{otherwise}.\n",
      "\\end{cases}$$\n",
      "\n",
      "2. Implement the Pegasos algorithm to run on a sparse data representation. The output should be a sparse weight vector $w$. [As should be your habit, please check your gradient using generic gradient checker while you are in the testing phase. That will be our first question if you ask for help debugging. Once you\u2019re convinced it works, take it out so it doesn\u2019t slow down your code.]\n",
      ">See next cell\n",
      "\n",
      "3. Write a function that takes the sparse weight vector $w$ and a collection of $(x,y)$ pairs, and returns the percent error when predicting $y$ using sign$(w^Tx)$ (that is, report the 0-1 loss).\n",
      ">See next cell\n",
      "\n",
      "4. Using the bag-of-words feature representation described above, search for the regularization parameter that gives the minimal percent error on your test set. A good search strategy is to start with a set of lambdas spanning a broad range of orders of magnitude. Then, continue to zoom in until you\u2019re convinced that additional search will not significantly improve your test performance. Once you have a sense of the general range of regularization parameters that give good results, you do not have to search over orders of magnitude every time you change something (such as adding new feature).\n",
      ">See next cell\n",
      "\n",
      "5. Recall that the \u201cscore\u201d is the value of the prediction $f(x) = w^Tx$. We like to think that the magnitude of the score represents the confidence of the prediction. This is something we can directly verify or refute. Break the predictions into groups based on the score (you can play with the size of the groups to get a result you think is informative). For each group, examine the percentage error. You can make a table or graph. Summarize the results. Is there a correlation between higher magnitude scores and accuracy?\n",
      ">See next cell"
     ]
    },
    {
     "cell_type": "code",
     "collapsed": false,
     "input": [
      "#############\n",
      "#Question 4.2\n",
      "\n",
      "def pegasos(X,y,Lambda=1,max_epochs=10):\n",
      "    t1 = datetime.now()\n",
      "    w=filter_w(1)\n",
      "    print len(w)\n",
      "    t=epoch=0\n",
      "    m=len(X)\n",
      "    \n",
      "    while epoch<max_epochs:\n",
      "        print \"epoch\",epoch\n",
      "        for j in range(1,m):\n",
      "            t+=1\n",
      "            eta = 1.0/(t*Lambda)\n",
      "            if y[j]*dotProduct(w,X[j])<1:\n",
      "                increment(w,-eta*Lambda,w)\n",
      "                increment(w,eta*y[j],X[j])\n",
      "            else:\n",
      "                increment(w,-eta*Lambda,w)\n",
      "        epoch+=1\n",
      "        \n",
      "    t2 = datetime.now()\n",
      "    print \"Time taken: %i seconds\" %(t2-t1).seconds\n",
      "    return w\n",
      "\n",
      "X,y=lists2bags(train)\n",
      "X_test,y_test=lists2bags(test)\n",
      "\n",
      "X = X[:100]\n",
      "y = y[:100]\n",
      "\n",
      "#w = pegasos(X,y,1,10)"
     ],
     "language": "python",
     "metadata": {},
     "outputs": [],
     "prompt_number": 222
    },
    {
     "cell_type": "code",
     "collapsed": false,
     "input": [
      "#############\n",
      "#Question 4.3\n",
      "def get_pct_error(X,y,w):\n",
      "    num_correct=0\n",
      "    for i in range(len(X)):\n",
      "        yhat = np.sign(dotProduct(w,X[i]))\n",
      "        num_correct+=max(y[i]*yhat,0)        \n",
      "    return 1-float(num_correct)/len(y)\n",
      "\n",
      "get_pct_error(X_test,y_test,w)"
     ],
     "language": "python",
     "metadata": {},
     "outputs": [
      {
       "metadata": {},
       "output_type": "pyout",
       "prompt_number": 221,
       "text": [
        "0.264"
       ]
      }
     ],
     "prompt_number": 221
    },
    {
     "cell_type": "code",
     "collapsed": false,
     "input": [
      "#############\n",
      "#Question 4.4\n",
      "def Lambda_search(opt_func):\n",
      "    \"\"\"\n",
      "    Runs an optimization function on a training set with a variety of \n",
      "    regularization hyperparameters Lambda.  \n",
      "    Selects the lambda that minimizes square error on the validation set.\n",
      "    Plots validation error vs. Lambda\n",
      "    Prints selected lambda along with corresponding test error.\n",
      "    \"\"\"\n",
      "    #loop through array of lambdas\n",
      "    t=0\n",
      "    Lambdas=[]\n",
      "    loss_hist=[]\n",
      "    print \"Starting Loop\"\n",
      "    for i in range(-3,2):\n",
      "        Lambda = 10**i\n",
      "        print \"Lambda\",Lambda\n",
      "        Lambdas.append(Lambda)\n",
      "        w=opt_func(X,y,Lambda)\n",
      "        loss=get_pct_error(X_test,y_test,w)\n",
      "        loss_hist.append(loss)\n",
      "        \n",
      "        if t==0 or loss<=loss_opt:\n",
      "            loss_opt = loss\n",
      "            lambda_opt = Lambda\n",
      "            w_opt = w.copy()\n",
      "        t=t+1\n",
      "    \n",
      "    print \"Best Lambda:\",lambda_opt\n",
      "    print \"Square Loss on Test Data:\", loss_opt\n",
      "    \n",
      "    return w_opt,Lambdas,loss_hist\n",
      "\n",
      "w_opt,Lambdas,loss_hist=Lambda_search(pegasos)\n",
      "plt.plot(Lambdas,loss_hist)\n",
      "plt.xlabel('Lambda')\n",
      "plt.ylabel('Pct. Error')\n",
      "plt.xscale('log')\n",
      "plt.title('Pct. Error vs. Lambda')\n",
      "plt.show()"
     ],
     "language": "python",
     "metadata": {},
     "outputs": [
      {
       "output_type": "stream",
       "stream": "stdout",
       "text": [
        "Starting Loop\n",
        "Lambda 0.001\n",
        "4389"
       ]
      },
      {
       "output_type": "stream",
       "stream": "stdout",
       "text": [
        "\n",
        "epoch 0\n",
        "epoch"
       ]
      },
      {
       "output_type": "stream",
       "stream": "stdout",
       "text": [
        " 1\n",
        "epoch"
       ]
      },
      {
       "output_type": "stream",
       "stream": "stdout",
       "text": [
        " 2\n",
        "epoch"
       ]
      },
      {
       "output_type": "stream",
       "stream": "stdout",
       "text": [
        " 3\n",
        "epoch"
       ]
      },
      {
       "output_type": "stream",
       "stream": "stdout",
       "text": [
        " 4\n",
        "epoch"
       ]
      },
      {
       "output_type": "stream",
       "stream": "stdout",
       "text": [
        " 5\n",
        "epoch"
       ]
      },
      {
       "output_type": "stream",
       "stream": "stdout",
       "text": [
        " 6\n",
        "epoch"
       ]
      },
      {
       "output_type": "stream",
       "stream": "stdout",
       "text": [
        " 7\n",
        "epoch"
       ]
      },
      {
       "output_type": "stream",
       "stream": "stdout",
       "text": [
        " 8\n",
        "epoch"
       ]
      },
      {
       "output_type": "stream",
       "stream": "stdout",
       "text": [
        " 9\n",
        "Time taken: 13 seconds"
       ]
      },
      {
       "output_type": "stream",
       "stream": "stdout",
       "text": [
        "\n",
        "Lambda"
       ]
      },
      {
       "output_type": "stream",
       "stream": "stdout",
       "text": [
        " 0.01\n",
        "4389\n",
        "epoch 0\n",
        "epoch"
       ]
      },
      {
       "output_type": "stream",
       "stream": "stdout",
       "text": [
        " 1\n",
        "epoch"
       ]
      },
      {
       "output_type": "stream",
       "stream": "stdout",
       "text": [
        " 2\n",
        "epoch"
       ]
      },
      {
       "output_type": "stream",
       "stream": "stdout",
       "text": [
        " 3\n",
        "epoch"
       ]
      },
      {
       "output_type": "stream",
       "stream": "stdout",
       "text": [
        " 4\n",
        "epoch"
       ]
      },
      {
       "output_type": "stream",
       "stream": "stdout",
       "text": [
        " 5\n",
        "epoch"
       ]
      },
      {
       "output_type": "stream",
       "stream": "stdout",
       "text": [
        " 6\n",
        "epoch"
       ]
      },
      {
       "output_type": "stream",
       "stream": "stdout",
       "text": [
        " 7\n",
        "epoch"
       ]
      },
      {
       "output_type": "stream",
       "stream": "stdout",
       "text": [
        " 8\n",
        "epoch"
       ]
      },
      {
       "output_type": "stream",
       "stream": "stdout",
       "text": [
        " 9\n",
        "Time taken: 11 seconds"
       ]
      },
      {
       "output_type": "stream",
       "stream": "stdout",
       "text": [
        "\n",
        "Lambda"
       ]
      },
      {
       "output_type": "stream",
       "stream": "stdout",
       "text": [
        " 0.1\n",
        "4389"
       ]
      },
      {
       "output_type": "stream",
       "stream": "stdout",
       "text": [
        "\n",
        "epoch 0\n",
        "epoch"
       ]
      },
      {
       "output_type": "stream",
       "stream": "stdout",
       "text": [
        " 1\n",
        "epoch"
       ]
      },
      {
       "output_type": "stream",
       "stream": "stdout",
       "text": [
        " 2\n",
        "epoch"
       ]
      },
      {
       "output_type": "stream",
       "stream": "stdout",
       "text": [
        " 3\n",
        "epoch"
       ]
      },
      {
       "output_type": "stream",
       "stream": "stdout",
       "text": [
        " 4\n",
        "epoch"
       ]
      },
      {
       "output_type": "stream",
       "stream": "stdout",
       "text": [
        " 5\n",
        "epoch"
       ]
      },
      {
       "output_type": "stream",
       "stream": "stdout",
       "text": [
        " 6\n",
        "epoch"
       ]
      },
      {
       "output_type": "stream",
       "stream": "stdout",
       "text": [
        " 7\n",
        "epoch"
       ]
      },
      {
       "output_type": "stream",
       "stream": "stdout",
       "text": [
        " 8\n",
        "epoch"
       ]
      },
      {
       "output_type": "stream",
       "stream": "stdout",
       "text": [
        " 9\n",
        "Time taken: 13 seconds"
       ]
      },
      {
       "output_type": "stream",
       "stream": "stdout",
       "text": [
        "\n",
        "Lambda"
       ]
      },
      {
       "output_type": "stream",
       "stream": "stdout",
       "text": [
        " 1\n",
        "4389"
       ]
      },
      {
       "output_type": "stream",
       "stream": "stdout",
       "text": [
        "\n",
        "epoch 0\n",
        "epoch"
       ]
      },
      {
       "output_type": "stream",
       "stream": "stdout",
       "text": [
        " 1\n",
        "epoch"
       ]
      },
      {
       "output_type": "stream",
       "stream": "stdout",
       "text": [
        " 2\n",
        "epoch"
       ]
      },
      {
       "output_type": "stream",
       "stream": "stdout",
       "text": [
        " 3\n",
        "epoch"
       ]
      },
      {
       "output_type": "stream",
       "stream": "stdout",
       "text": [
        " 4\n",
        "epoch"
       ]
      },
      {
       "output_type": "stream",
       "stream": "stdout",
       "text": [
        " 5\n",
        "epoch"
       ]
      },
      {
       "output_type": "stream",
       "stream": "stdout",
       "text": [
        " 6\n",
        "epoch"
       ]
      },
      {
       "output_type": "stream",
       "stream": "stdout",
       "text": [
        " 7\n",
        "epoch"
       ]
      },
      {
       "output_type": "stream",
       "stream": "stdout",
       "text": [
        " 8\n",
        "epoch"
       ]
      },
      {
       "output_type": "stream",
       "stream": "stdout",
       "text": [
        " 9\n",
        "Time taken: 14 seconds"
       ]
      },
      {
       "output_type": "stream",
       "stream": "stdout",
       "text": [
        "\n",
        "Lambda"
       ]
      },
      {
       "output_type": "stream",
       "stream": "stdout",
       "text": [
        " 10\n",
        "4389\n",
        "epoch 0\n",
        "epoch"
       ]
      },
      {
       "output_type": "stream",
       "stream": "stdout",
       "text": [
        " 1\n",
        "epoch"
       ]
      },
      {
       "output_type": "stream",
       "stream": "stdout",
       "text": [
        " 2\n",
        "epoch"
       ]
      },
      {
       "output_type": "stream",
       "stream": "stdout",
       "text": [
        " 3\n",
        "epoch"
       ]
      },
      {
       "output_type": "stream",
       "stream": "stdout",
       "text": [
        " 4\n",
        "epoch"
       ]
      },
      {
       "output_type": "stream",
       "stream": "stdout",
       "text": [
        " 5\n",
        "epoch"
       ]
      },
      {
       "output_type": "stream",
       "stream": "stdout",
       "text": [
        " 6\n",
        "epoch"
       ]
      },
      {
       "output_type": "stream",
       "stream": "stdout",
       "text": [
        " 7\n",
        "epoch"
       ]
      },
      {
       "output_type": "stream",
       "stream": "stdout",
       "text": [
        " 8\n",
        "epoch"
       ]
      },
      {
       "output_type": "stream",
       "stream": "stdout",
       "text": [
        " 9\n",
        "Time taken: 14 seconds"
       ]
      },
      {
       "output_type": "stream",
       "stream": "stdout",
       "text": [
        "\n",
        "Best Lambda:"
       ]
      },
      {
       "output_type": "stream",
       "stream": "stdout",
       "text": [
        " 1\n",
        "Square Loss on Test Data: 0.288\n"
       ]
      },
      {
       "metadata": {},
       "output_type": "display_data",
       "png": "[encoded data removed]",
       "text": [
        "<matplotlib.figure.Figure at 0x108bc7290>"
       ]
      }
     ],
     "prompt_number": 302
    },
    {
     "cell_type": "code",
     "collapsed": false,
     "input": [
      "#############\n",
      "#Question 4.5\n",
      "def discretize_score(X,y,w,bins=10):\n",
      "    scores=[]\n",
      "    for i in range(len(X)):\n",
      "        score = dotProduct(w,X[i])\n",
      "        scores.append(score)\n",
      "    score_df=pd.DataFrame(zip(scores,y))\n",
      "    score_df.columns=('score','label')\n",
      "    score_df['prediction']=np.sign(score_df['score'])\n",
      "    score_df = score_df.sort('score')\n",
      "    #sorted_scores = np.sort(score_array,axis=0)\n",
      "\n",
      "    index=0\n",
      "    score_df['bin']=0\n",
      "    summary = pd.DataFrame(columns=('avg_score','pct_error'))\n",
      "    chunk = ss.shape[0]/bins \n",
      "    \n",
      "    #for each bin...\n",
      "    for i in range(bins):\n",
      "        score_df['bin'].iloc[index:index+chunk]=i\n",
      "        temp = score_df.iloc[index:index+chunk]\n",
      "        assert temp.shape[0]==score_df.shape[0]/bins,\"Temporary DF is wrong size\"\n",
      "        #record avg score\n",
      "        summary.loc[i,'avg_score']=temp['score'].mean()\n",
      "\n",
      "        #get pct error\n",
      "        pct_error = float(temp[temp.prediction != temp.label].shape[0])/temp.shape[0]\n",
      "        summary.loc[i,'pct_error']=pct_error\n",
      "        index+=chunk\n",
      "    return summary\n",
      "score_summary=discretize_score(X_test,y_test,w_opt)\n",
      "\n",
      "score_summary.plot(x='avg_score',y='pct_error')\n",
      "plt.xlabel('Average Bin Score')\n",
      "plt.ylabel('Pct. Error')\n",
      "score_summary"
     ],
     "language": "python",
     "metadata": {},
     "outputs": [
      {
       "html": [
        "<div style=\"max-height:1000px;max-width:1500px;overflow:auto;\">\n",
        "<table border=\"1\" class=\"dataframe\">\n",
        "  <thead>\n",
        "    <tr style=\"text-align: right;\">\n",
        "      <th></th>\n",
        "      <th>avg_score</th>\n",
        "      <th>pct_error</th>\n",
        "    </tr>\n",
        "  </thead>\n",
        "  <tbody>\n",
        "    <tr>\n",
        "      <th>0</th>\n",
        "      <td>  -2.430081</td>\n",
        "      <td>  0.2</td>\n",
        "    </tr>\n",
        "    <tr>\n",
        "      <th>1</th>\n",
        "      <td>  -1.242586</td>\n",
        "      <td> 0.16</td>\n",
        "    </tr>\n",
        "    <tr>\n",
        "      <th>2</th>\n",
        "      <td> -0.7451111</td>\n",
        "      <td> 0.32</td>\n",
        "    </tr>\n",
        "    <tr>\n",
        "      <th>3</th>\n",
        "      <td> -0.3607475</td>\n",
        "      <td> 0.26</td>\n",
        "    </tr>\n",
        "    <tr>\n",
        "      <th>4</th>\n",
        "      <td> 0.05874747</td>\n",
        "      <td> 0.52</td>\n",
        "    </tr>\n",
        "    <tr>\n",
        "      <th>5</th>\n",
        "      <td>  0.4418182</td>\n",
        "      <td> 0.48</td>\n",
        "    </tr>\n",
        "    <tr>\n",
        "      <th>6</th>\n",
        "      <td>  0.7878586</td>\n",
        "      <td> 0.44</td>\n",
        "    </tr>\n",
        "    <tr>\n",
        "      <th>7</th>\n",
        "      <td>   1.278909</td>\n",
        "      <td> 0.24</td>\n",
        "    </tr>\n",
        "    <tr>\n",
        "      <th>8</th>\n",
        "      <td>   1.952505</td>\n",
        "      <td> 0.18</td>\n",
        "    </tr>\n",
        "    <tr>\n",
        "      <th>9</th>\n",
        "      <td>   3.576485</td>\n",
        "      <td> 0.08</td>\n",
        "    </tr>\n",
        "  </tbody>\n",
        "</table>\n",
        "</div>"
       ],
       "metadata": {},
       "output_type": "pyout",
       "prompt_number": 301,
       "text": [
        "    avg_score pct_error\n",
        "0   -2.430081       0.2\n",
        "1   -1.242586      0.16\n",
        "2  -0.7451111      0.32\n",
        "3  -0.3607475      0.26\n",
        "4  0.05874747      0.52\n",
        "5   0.4418182      0.48\n",
        "6   0.7878586      0.44\n",
        "7    1.278909      0.24\n",
        "8    1.952505      0.18\n",
        "9    3.576485      0.08"
       ]
      },
      {
       "metadata": {},
       "output_type": "display_data",
       "png": "[encoded data removed]",
       "text": [
        "<matplotlib.figure.Figure at 0x109d7e850>"
       ]
      }
     ],
     "prompt_number": 301
    },
    {
     "cell_type": "markdown",
     "metadata": {},
     "source": [
      "#5 Error Analysis\n",
      "The natural language processing domain is particularly nice in that one can often interpret why a model has performed well or poorly on a specific example, and sometimes it is not very difficult to come up with ideas for new features that might help fix a problem. The first step in this process is to look closely at the errors that our model makes.\n",
      "\n",
      "1. Choose some examples that the model got wrong. List the features that contributed most heavily to the descision (e.g. rank them by $|w_ix_i|$), along with $x_i, w_i, xw_i$. Do you understand why the model was incorrect? Can you think of a new feature that might be able to fix the issue? Include a short analysis for at least 3 incorrect examples."
     ]
    },
    {
     "cell_type": "markdown",
     "metadata": {},
     "source": [
      "#6 Features\n",
      "For a problem like this, the features you use are far more important than the learning model you choose. Whenever you enter a new problem domain, one of your first orders of business is to beg, borrow, or steal the best features you can find. This means looking at any relevant published work and seeing what they\u2019ve used. Maybe it means asking a colleague what features they use. But even- tually you\u2019ll need to engineer new features that help in your particular situation. To get ideas for this dataset, you might check the discussion board on this Kaggle competition, which is using a very similar dataset https://www.kaggle.com/c/sentiment-analysis-on-movie-reviews. There are also a very large number of academic research papers on sentiment analysis that you can look at for ideas.\n",
      "\n",
      "1.  Based on your error analysis, or on some idea you have, find a new feature (or group of features) that improve your test performance. Describe the features and what kind of improvement they give. At this point, it\u2019s important to consider the standard errors $(\\sqrt{\udbff\udc05p(1 \u2212 p)/n})$ on your performance estimates, to know whether the improvement is statistically significant.\n",
      ">TODO\n",
      "\n",
      "2. [Optional] Try to get the best performance possible by generating lots of new features, chang- ing the pre-processing, or any other method you want, so long as you are using the same core SVM model. Describe what you tried, and how much improvement each thing brought to the model. To get you thinking on features, here are some basic ideas of varying quality: 1) how many words are in the review? 2) How many \u201cnegative\u201d words are there? (You\u2019d have to construct or find a list of negative words.) 3) Word n-gram features: Instead of single-word features, you can make every pair of consecutive words a feature. 4) Character n-gram features: Ignore word boundaries and make every sequence of n characters into a feature (this will be a lot). 5) Adding an extra feature whenever a word is preceded by \u201cnot\u201d. For example \u201cnot amazing\u201d becomes its own feature. 6) Do we really need to eliminate those funny characters in the data loading phase? Might there be useful signal there? 7) Use tf-idf instead of raw word counts. The tf-idf is calculated as \n",
      "$$\\textrm{tfidf}(f_i) = \\frac{FF_i}{log(DF_i)}$$\n",
      "where $F F_i$ is the feature frequency of feature $f_i$ and $DF_i$ is the number of document containing $f_i$. In this way we increase the weight of rare words. Sometimes this scheme helps, sometimes it makes things worse. You could try using both! [Extra credit points will be awarded in proportion to how much improvement you achieve.]\n",
      ">TODO if there's time"
     ]
    },
    {
     "cell_type": "markdown",
     "metadata": {},
     "source": [
      "#7 Feedback (not graded)\n",
      "1. Approximately how long did it take to complete this assignment?\n",
      ">Monday: 4 hours\n",
      ">Tuesday: 8 hours\n",
      ">Wednesday: 3 hours\n",
      "\n",
      "2. Did you find the Python programming challenging (in particular, converting your code to use sparse representations)?\n",
      ">TODO\n",
      "\n",
      "3. Any other feedback?\n",
      ">TODO"
     ]
    },
    {
     "cell_type": "code",
     "collapsed": false,
     "input": [],
     "language": "python",
     "metadata": {},
     "outputs": []
    },
    {
     "cell_type": "code",
     "collapsed": false,
     "input": [],
     "language": "python",
     "metadata": {},
     "outputs": []
    }
   ],
   "metadata": {}
  }
 ]
}