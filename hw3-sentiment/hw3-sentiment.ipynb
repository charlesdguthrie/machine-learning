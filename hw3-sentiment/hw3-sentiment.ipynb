{
 "metadata": {
  "name": "",
  "signature": "sha256:9e578a2f6c8285e312586560b607e4b2463dacd46ad3cd699f38853cca45bda4"
 },
 "nbformat": 3,
 "nbformat_minor": 0,
 "worksheets": [
  {
   "cells": [
    {
     "cell_type": "markdown",
     "metadata": {},
     "source": [
      "---\n",
      "#Machine Learning and Computational Statistics, Sprint 2015 Homework 3: SVM and Sentiment Analysis\n",
      "---\n",
      "###Charlie Guthrie\n",
      "Due Monday, Feb 23, 2015 at 4pm.  "
     ]
    },
    {
     "cell_type": "markdown",
     "metadata": {},
     "source": [
      "#1 Introduction"
     ]
    },
    {
     "cell_type": "code",
     "collapsed": false,
     "input": [
      "#Prep\n",
      "import os\n",
      "import numpy as np\n",
      "import pandas as pd\n",
      "import pickle\n",
      "import random\n",
      "import collections\n",
      "from datetime import datetime\n",
      "import matplotlib.pyplot as plt\n",
      "%matplotlib inline\n",
      "#pd.options.display.mpl_style = 'default'"
     ],
     "language": "python",
     "metadata": {},
     "outputs": [],
     "prompt_number": 26
    },
    {
     "cell_type": "markdown",
     "metadata": {},
     "source": [
      "#2 The Data\n",
      "\n",
      "1. Load all the data and randomly split it into 1500 training examples and 500 test examples."
     ]
    },
    {
     "cell_type": "code",
     "collapsed": false,
     "input": [
      "def folder_list(path,label):\n",
      "    '''\n",
      "    Take path to a directory, apply the label the contained documents,\n",
      "    and return the list of documents\n",
      "    PARAMETER PATH IS THE PATH OF YOUR LOCAL FOLDER\n",
      "    Label is positive or negative\n",
      "    '''\n",
      "    filelist = os.listdir(path)\n",
      "    review = []\n",
      "    for infile in filelist:\n",
      "        myfile = os.path.join(path,infile)\n",
      "        r = read_data(myfile)\n",
      "        r.append(label)\n",
      "        r.append(infile) #add file id for later reference\n",
      "        review.append(r)\n",
      "    return review\n",
      "\n",
      "def read_data(file_path):\n",
      "    '''\n",
      "    Read each file into a list of strings. \n",
      "    Example:\n",
      "    [\"it's\", 'a', 'curious', 'thing', \"i've\", 'found', 'that', 'when', 'willis', 'is', 'not', 'called', 'on', \n",
      "    ...'to', 'carry', 'the', 'whole', 'movie', \"he's\", 'much', 'better', 'and', 'so', 'is', 'the', 'movie']\n",
      "    '''\n",
      "    f = open(file_path)\n",
      "    lines = f.read().split(' ')\n",
      "    symbols = '${}()[].,:;+-*/&|<>=~\"_`\\' '\n",
      "    words = map(lambda Element: Element.translate(None, symbols).strip(), lines)\n",
      "    words = filter(None, words)\n",
      "    return words\n",
      "    \n",
      "def train_test_split(data,pivot_index):\n",
      "    '''\n",
      "    split list of documents into training and test sets\n",
      "    '''\n",
      "    random.seed(1)\n",
      "    random.shuffle(data)\n",
      "    train = data[:pivot_index]\n",
      "    test = data[pivot_index:]\n",
      "    assert len(train)==pivot_index, \"Training set is not proper length\"\n",
      "    return train,test\n",
      "\n",
      "def load_data():\n",
      "    '''\n",
      "    pos_path is where you save positive review data.\n",
      "    neg_path is where you save negative review data.\n",
      "    '''\n",
      "    home_dir = os.getcwd()\n",
      "    pos_path = os.path.join(home_dir,\"data/pos\")\n",
      "    neg_path = os.path.join(home_dir,\"data/neg\")\n",
      "\n",
      "    pos_review = folder_list(pos_path,1)\n",
      "    neg_review = folder_list(neg_path,-1)\n",
      "\n",
      "    review = pos_review + neg_review\n",
      "    return train_test_split(review,1500)\n",
      "\n",
      "train,test = load_data()"
     ],
     "language": "python",
     "metadata": {},
     "outputs": [],
     "prompt_number": 55
    },
    {
     "cell_type": "markdown",
     "metadata": {},
     "source": [
      "---\n",
      "#3 Sparse Representations\n",
      "1\\. Write a function that converts an example (e.g. list of words) into a sparse bag-of-words representation.  "
     ]
    },
    {
     "cell_type": "code",
     "collapsed": false,
     "input": [
      "def lists2bags(lists):\n",
      "    '''Converts list of words into sparse bag-of-words representation'''\n",
      "    bags = []\n",
      "    labels = []\n",
      "    ids = []\n",
      "    for review in lists:\n",
      "        #don't include the review's label or id\n",
      "        bag = collections.Counter(review[:-2])\n",
      "        bags.append(bag)\n",
      "        labels.append(review[-2])\n",
      "        ids.append(review[-1])\n",
      "    return bags,labels,ids"
     ],
     "language": "python",
     "metadata": {},
     "outputs": [],
     "prompt_number": 262
    },
    {
     "cell_type": "markdown",
     "metadata": {},
     "source": [
      "---\n",
      "2\\. Write a version of `generic_gradient_checker` from Homework 1 that works with sparse vectors represented as dict types.  Since we'll be using it for stochastic methods, it should take a single $(x,y)$ pair, rather than the entire dataset.  Be sure to use the dotProduct and increment primitives we provide, or make your own. "
     ]
    },
    {
     "cell_type": "code",
     "collapsed": false,
     "input": [
      "def dotProduct(d1, d2):\n",
      "    \"\"\"\n",
      "    @param dict d1: a feature vector represented by a mapping from a feature (string) to a weight (float).\n",
      "    @param dict d2: same as d1\n",
      "    @return float: the dot product between d1 and d2\n",
      "    \"\"\"\n",
      "    if len(d1) < len(d2):\n",
      "        return dotProduct(d2, d1)\n",
      "    else:\n",
      "        return sum(d1.get(f, 0) * v for f, v in d2.items())\n",
      "\n",
      "def increment(d1, scale, d2):\n",
      "    \"\"\"\n",
      "    MODIFIED: Does not add keys to d1\n",
      "    Implements d1 += scale * d2 for sparse vectors.\n",
      "    @param dict d1: the feature vector which is mutated.\n",
      "    @param float scale\n",
      "    @param dict d2: a feature vector.\n",
      "    \"\"\"\n",
      "    for f, v in d2.items():\n",
      "        current_val = d1.get(f)\n",
      "        if current_val is not None:\n",
      "            d1[f] = (current_val + v * scale)\n",
      "            \n",
      "def grad_checker(x, y, w, Lambda, obj_func,grad_func,epsilon=0.01, tolerance=1e-4): \n",
      "    \"\"\"Implement Gradient Checker\n",
      "    Check that the function compute_square_loss_gradient returns the\n",
      "    correct gradient for the given x, y, and theta.\n",
      "\n",
      "    Let d be the number of features. Here we numerically estimate the\n",
      "    gradient by approximating the directional derivative in each of\n",
      "    the d coordinate directions: \n",
      "    (e_1 = (1,0,0,...,0), e_2 = (0,1,0,...,0), ..., e_d = (0,...,0,1) \n",
      "\n",
      "    The approximation for the directional derivative of J at the point\n",
      "    theta in the direction e_i is given by: \n",
      "    ( J(theta + epsilon * e_i) - J(theta - epsilon * e_i) ) / (2*epsilon).\n",
      "\n",
      "    We then look at the Euclidean distance between the gradient\n",
      "    computed using this approximation and the gradient computed by\n",
      "    compute_square_loss_gradient(X, y, theta).  If the Euclidean\n",
      "    distance exceeds tolerance, we say the gradient is incorrect.\n",
      "\n",
      "    Args:\n",
      "        x - sparse feature dict\n",
      "        y - the label vector, 1D numpy array of size (num_instances)\n",
      "        w - sparse parameter dict\n",
      "        Lambda - regularization hyperparameter\n",
      "        epsilon - the epsilon used in approximation\n",
      "        tolerance - the tolerance error\n",
      "    \n",
      "    Return:\n",
      "        A boolean value indicate whether the gradient is correct or not\n",
      "\n",
      "    \"\"\" \n",
      "    \n",
      "    true_gradient = grad_func(x, y, w,Lambda) #the true gradient\n",
      "    approx_grad = {} #Initialize the gradient we approximate\n",
      "    dist = 0\n",
      "    for key in w:\n",
      "        w_plus = w.copy()\n",
      "        w_minus = w.copy()\n",
      "        w_plus[key]+= -epsilon\n",
      "        w_minus[key]+= epsilon\n",
      "    \n",
      "        approx_grad[key] = (obj_func(x,y,w_plus,Lambda) - obj_func(x,y,w_minus))*1.0 / (2.0*epsilon)\n",
      "        dist+=(approx_grad[key] - true_gradient[key])**2\n",
      "    \n",
      "    correct_grad = dist<tolerance\n",
      "    assert correct_grad, \"Gradient bad: dist %s is greater than tolerance %s\" % (dist,tolerance)\n",
      "    return correct_grad"
     ],
     "language": "python",
     "metadata": {},
     "outputs": [],
     "prompt_number": 263
    },
    {
     "cell_type": "markdown",
     "metadata": {},
     "source": [
      "---\n",
      "#4 Support Vector Machine via Pegasos\n",
      "---\n",
      "1\\. [Written] Compute a subgradient for the \"stochastic\" SVM objective, which assumes a single training point.  Show that if your step size rule is $\\eta_t = 1/(\\lambda t)$, then the corresponding SGD update is the same as given in the pseudocode.  \n",
      "> The objective function $J(w)$ for example $j$ is as follows:\n",
      ">\n",
      "$$J(w) = \\begin{cases}\n",
      "1-y_jw^Tx_j + \\frac{\\lambda}{2}||w||^2 & \\text{if $y_jw^Tx_j<1$}; \\\\\n",
      "\\frac{\\lambda}{2}||w||^2 & \\text{otherwise}.\n",
      "\\end{cases}$$\n",
      ">\n",
      ">Taking the gradients of both parts with respect to $w$, then:\n",
      ">\n",
      "$$\\nabla J(w) = \\begin{cases}\n",
      "\\lambda w - x_jy_j & \\text{if $y_jw^Tx_j<1$}; \\\\\n",
      "\\lambda w & \\text{otherwise}.\n",
      "\\end{cases}$$\n",
      ">\n",
      ">Updating $w$ according to the equation $w_{t+1}=w_t + \\eta_t\\nabla J(w_t)$, where $\\eta_t$ is step size, we have:\n",
      ">\n",
      "$$w_{t+1} = \\begin{cases}\n",
      "(1-\\eta_t\\lambda)w_t + \\eta_ty_jx_j & \\text{if $y_jw_t^Tx_j<1$}; \\\\\n",
      "(1-\\eta_t\\lambda)w_t & \\text{otherwise}.\n",
      "\\end{cases}$$"
     ]
    },
    {
     "cell_type": "markdown",
     "metadata": {},
     "source": [
      "---\n",
      "2\\. Implement the Pegasos algorithm to run on a sparse data representation. The output should be a sparse weight vector $w$. [As should be your habit, please check your gradient using generic gradient checker while you are in the testing phase. That will be our first question if you ask for help debugging. Once you\u2019re convinced it works, take it out so it doesn\u2019t slow down your code.]"
     ]
    },
    {
     "cell_type": "code",
     "collapsed": false,
     "input": [
      "def count_corpus_words(X):\n",
      "    '''count words in entire corpus'''\n",
      "    c = collections.Counter()\n",
      "    for review in X:\n",
      "        c.update(review)\n",
      "    return c\n",
      "\n",
      "def initialize_w(min_occurrences):\n",
      "    '''\n",
      "    initialize w to a dictionary where keys are all words and values are zeros.\n",
      "    remove single instances\n",
      "    Stopwords list from http://www.ranks.nl/stopwords\n",
      "    \n",
      "    '''\n",
      "    full_dictionary = count_corpus_words(X)\n",
      "    \n",
      "    w={}\n",
      "    for k, v in full_dictionary.items():\n",
      "        if v>min_occurrences:\n",
      "            w[k]=0\n",
      "    return w\n",
      "\n",
      "def remove_stopwords(w):\n",
      "    '''\n",
      "    remove stopwords \n",
      "    Stopwords list from http://www.ranks.nl/stopwords\n",
      "    '''\n",
      "    f = open('stopwords.txt')\n",
      "    stopwords = f.read().split(',')\n",
      "\n",
      "    for k in stopwords:\n",
      "        w.pop(k, None)\n",
      "    return w\n",
      "   \n",
      "def compute_svm_cost(X,y,w,Lambda):\n",
      "    \"\"\"\n",
      "    Given a set of X, y, theta, compute the square loss for predicting y with X*theta\n",
      "    \n",
      "    Args:\n",
      "        x - sparse feature dict\n",
      "        y - the label vector, 1D numpy array of size (num_instances)\n",
      "        w - sparse parameter dict\n",
      "        Lambda - regularization hyperparameter\n",
      "    \n",
      "    Returns:\n",
      "        loss - the square loss, scalar\n",
      "    \"\"\" \n",
      "    m = len(X)\n",
      "    loss = 0\n",
      "    for i in range(m):\n",
      "        loss+=max(0,1-y[i]*dotProduct(w,X[i]))\n",
      "    \n",
      "    return Lambda/2.0*dotProduct(w,w) + 1.0/m*loss\n",
      "\n",
      "def pegasos(X,y,Lambda,w_init,max_epochs=30,delta=0.1, plot=False, remove_stops=False):\n",
      "    t1 = datetime.now()\n",
      "    W=w_init.copy()\n",
      "    W=remove_stopwords(W) if remove_stops==True else W\n",
      "    t=s=1\n",
      "    epoch=0\n",
      "    epochs=[]\n",
      "    losses=[]\n",
      "    m=len(X)\n",
      "    convergence=False\n",
      "    loss=10000\n",
      "    while epoch<max_epochs and convergence==False:\n",
      "        prev_loss=loss\n",
      "        epochs.append(epoch)\n",
      "        for j in range(1,m):\n",
      "            t+=1\n",
      "            eta = 1.0/(t*Lambda)\n",
      "            ywx=y[j]*s*dotProduct(W,X[j])\n",
      "            s=(1-eta*Lambda)*s\n",
      "            if ywx<1:\n",
      "                increment(W,eta*y[j]/s,X[j])\n",
      "\n",
      "        #Scale w:\n",
      "        w={}\n",
      "        for f,v in W.items():\n",
      "            w[f]=v*s \n",
      "            \n",
      "        loss = compute_svm_cost(X,y,w,Lambda)\n",
      "        losses.append(loss)\n",
      "        if len(losses)>=4:\n",
      "            loss_diff = max(losses[-4:])-min(losses[-4:])\n",
      "            convergence=(loss_diff<delta)\n",
      "        epoch+=1\n",
      "        \n",
      "    t2 = datetime.now()\n",
      "    print \"Time taken: %i seconds\" %(t2-t1).seconds\n",
      "    \n",
      "    if plot:\n",
      "        plot_convergence(epochs,losses,Lambda)\n",
      "\n",
      "    return w\n",
      "\n",
      "def plot_convergence(epochs,losses,Lambda):\n",
      "    plt.plot(epochs,losses)\n",
      "    plt.xlabel('Epoch')\n",
      "    plt.ylabel('Hinge Loss')\n",
      "    plt.title('Rate of Convergence for Lambda=%s' %Lambda)\n",
      "    plt.show()\n",
      "\n",
      "#X,y,ids=lists2bags(train)\n",
      "X_test,y_test,ids_test=lists2bags(test)\n",
      "w=initialize_w(1)\n",
      "w = pegasos(X,y,0.1,w,30, delta=0.1, plot=True, remove_stops=True)"
     ],
     "language": "python",
     "metadata": {},
     "outputs": [
      {
       "output_type": "stream",
       "stream": "stdout",
       "text": [
        "Time taken: 18 seconds\n"
       ]
      },
      {
       "metadata": {},
       "output_type": "display_data",
       "png": "[encoded data removed]",
       "text": [
        "<matplotlib.figure.Figure at 0x114cfed50>"
       ]
      }
     ],
     "prompt_number": 253
    },
    {
     "cell_type": "markdown",
     "metadata": {},
     "source": [
      "---\n",
      "3\\. Write a function that takes the sparse weight vector $w$ and a collection of $(x,y)$ pairs, and returns the percent error when predicting $y$ using sign$(w^Tx)$ (that is, report the 0-1 loss)."
     ]
    },
    {
     "cell_type": "code",
     "collapsed": false,
     "input": [
      "def get_pct_error(X,y,w):\n",
      "    num_correct=0\n",
      "    for i in range(len(X)):\n",
      "        yhat = np.sign(dotProduct(w,X[i]))\n",
      "        num_correct+=max(y[i]*yhat,0)        \n",
      "    return 1-float(num_correct)/len(y)\n",
      "\n",
      "get_pct_error(X_test,y_test,w)"
     ],
     "language": "python",
     "metadata": {},
     "outputs": [
      {
       "metadata": {},
       "output_type": "pyout",
       "prompt_number": 216,
       "text": [
        "0.15200000000000002"
       ]
      }
     ],
     "prompt_number": 216
    },
    {
     "cell_type": "markdown",
     "metadata": {},
     "source": [
      "---\n",
      "4\\. Using the bag-of-words feature representation described above, search for the regularization parameter that gives the minimal percent error on your test set. A good search strategy is to start with a set of lambdas spanning a broad range of orders of magnitude. Then, continue to zoom in until you\u2019re convinced that additional search will not significantly improve your test performance. Once you have a sense of the general range of regularization parameters that give good results, you do not have to search over orders of magnitude every time you change something (such as adding new feature)."
     ]
    },
    {
     "cell_type": "code",
     "collapsed": false,
     "input": [
      "def Lambda_search(opt_func,plot_bool):\n",
      "    \"\"\"\n",
      "    Runs an optimization function on a training set with a variety of \n",
      "    regularization hyperparameters Lambda.  \n",
      "    Selects the lambda that minimizes square error on the validation set.\n",
      "    Plots validation error vs. Lambda\n",
      "    Prints selected lambda along with corresponding test error.\n",
      "    \"\"\"\n",
      "    #loop through array of lambdas\n",
      "    t=0\n",
      "    Lambdas=[]\n",
      "    loss_hist=[]\n",
      "    print \"Starting Loop\"\n",
      "    w=initialize_w(1)\n",
      "    for i in range(2,-4,-1):\n",
      "        Lambda = 10**i\n",
      "        print \"Lambda\",Lambda\n",
      "        Lambdas.append(Lambda)\n",
      "        w=opt_func(X,y,Lambda,w,plot=plot_bool)\n",
      "        loss=get_pct_error(X_test,y_test,w)\n",
      "        loss_hist.append(loss)\n",
      "        \n",
      "        if t==0 or loss<=loss_opt:\n",
      "            loss_opt = loss\n",
      "            lambda_opt = Lambda\n",
      "            w_opt = w.copy()\n",
      "        t=t+1\n",
      "    \n",
      "    print \"Best Lambda:\",lambda_opt\n",
      "    print \"Pct Error on Test Data:\", loss_opt\n",
      "    \n",
      "    return w_opt,Lambdas,loss_hist"
     ],
     "language": "python",
     "metadata": {},
     "outputs": [],
     "prompt_number": 255
    },
    {
     "cell_type": "code",
     "collapsed": false,
     "input": [
      "w_opt,Lambdas,loss_hist=Lambda_search(pegasos,True)\n",
      "plt.plot(Lambdas,loss_hist)\n",
      "plt.xlabel('Lambda')\n",
      "plt.ylabel('Pct. Error')\n",
      "plt.xscale('log')\n",
      "plt.title('Pct. Error vs. Lambda')\n",
      "plt.show()"
     ],
     "language": "python",
     "metadata": {},
     "outputs": [
      {
       "output_type": "stream",
       "stream": "stdout",
       "text": [
        "Starting Loop\n",
        "Lambda"
       ]
      },
      {
       "output_type": "stream",
       "stream": "stdout",
       "text": [
        " 100\n",
        "Time taken: 3 seconds"
       ]
      },
      {
       "output_type": "stream",
       "stream": "stdout",
       "text": [
        "\n"
       ]
      },
      {
       "metadata": {},
       "output_type": "display_data",
       "png": "[encoded data removed]",
       "text": [
        "<matplotlib.figure.Figure at 0x10bf02ed0>"
       ]
      },
      {
       "output_type": "stream",
       "stream": "stdout",
       "text": [
        "Lambda 10\n",
        "Time taken: 3 seconds"
       ]
      },
      {
       "output_type": "stream",
       "stream": "stdout",
       "text": [
        "\n"
       ]
      },
      {
       "metadata": {},
       "output_type": "display_data",
       "png": "[encoded data removed]",
       "text": [
        "<matplotlib.figure.Figure at 0x107a97b90>"
       ]
      },
      {
       "output_type": "stream",
       "stream": "stdout",
       "text": [
        "Lambda 1\n",
        "Time taken: 3 seconds"
       ]
      },
      {
       "output_type": "stream",
       "stream": "stdout",
       "text": [
        "\n"
       ]
      },
      {
       "metadata": {},
       "output_type": "display_data",
       "png": "[encoded data removed]",
       "text": [
        "<matplotlib.figure.Figure at 0x103a24f90>"
       ]
      },
      {
       "output_type": "stream",
       "stream": "stdout",
       "text": [
        "Lambda 0.1\n",
        "Time taken: 8 seconds"
       ]
      },
      {
       "output_type": "stream",
       "stream": "stdout",
       "text": [
        "\n"
       ]
      },
      {
       "metadata": {},
       "output_type": "display_data",
       "png": "[encoded data removed]",
       "text": [
        "<matplotlib.figure.Figure at 0x1075d3e50>"
       ]
      },
      {
       "output_type": "stream",
       "stream": "stdout",
       "text": [
        "Lambda 0.01\n",
        "Time taken: 14 seconds"
       ]
      },
      {
       "output_type": "stream",
       "stream": "stdout",
       "text": [
        "\n"
       ]
      },
      {
       "metadata": {},
       "output_type": "display_data",
       "png": "[encoded data removed]",
       "text": [
        "<matplotlib.figure.Figure at 0x103a24f90>"
       ]
      },
      {
       "output_type": "stream",
       "stream": "stdout",
       "text": [
        "Lambda 0.001\n",
        "Time taken: 20 seconds"
       ]
      },
      {
       "output_type": "stream",
       "stream": "stdout",
       "text": [
        "\n"
       ]
      },
      {
       "metadata": {},
       "output_type": "display_data",
       "png": "[encoded data removed]",
       "text": [
        "<matplotlib.figure.Figure at 0x10bddacd0>"
       ]
      },
      {
       "output_type": "stream",
       "stream": "stdout",
       "text": [
        "Best Lambda: 0.001\n",
        "Square Loss on Test Data: 0.17\n"
       ]
      },
      {
       "metadata": {},
       "output_type": "display_data",
       "png": "[encoded data removed]",
       "text": [
        "<matplotlib.figure.Figure at 0x106d1e6d0>"
       ]
      }
     ],
     "prompt_number": 144
    },
    {
     "cell_type": "markdown",
     "metadata": {},
     "source": [
      "5\\. Recall that the \u201cscore\u201d is the value of the prediction $f(x) = w^Tx$. We like to think that the magnitude of the score represents the confidence of the prediction. This is something we can directly verify or refute. Break the predictions into groups based on the score (you can play with the size of the groups to get a result you think is informative). For each group, examine the percentage error. You can make a table or graph. Summarize the results. Is there a correlation between higher magnitude scores and accuracy?\n",
      ">See below for graph.  I find that higher magnitude scores give considerably better accuracy.  "
     ]
    },
    {
     "cell_type": "code",
     "collapsed": false,
     "input": [
      "def discretize_score(X,y,w,bins=10):\n",
      "    scores=[]\n",
      "    for i in range(len(X)):\n",
      "        score = dotProduct(w,X[i])\n",
      "        scores.append(score)\n",
      "    score_df=pd.DataFrame(zip(scores,y))\n",
      "    score_df.columns=('score','label')\n",
      "    score_df['prediction']=np.sign(score_df['score'])\n",
      "    score_df = score_df.sort('score')\n",
      "    #sorted_scores = np.sort(score_array,axis=0)\n",
      "\n",
      "    index=0\n",
      "    score_df['bin']=0\n",
      "    summary = pd.DataFrame(columns=('avg_score','pct_error'))\n",
      "    chunk = score_df.shape[0]/bins \n",
      "    \n",
      "    #for each bin...\n",
      "    for i in range(bins):\n",
      "        score_df['bin'].iloc[index:index+chunk]=i\n",
      "        temp = score_df.iloc[index:index+chunk]\n",
      "        assert temp.shape[0]==score_df.shape[0]/bins,\"Temporary DF is wrong size\"\n",
      "        #record avg score\n",
      "        summary.loc[i,'avg_score']=temp['score'].mean()\n",
      "\n",
      "        #get pct error\n",
      "        pct_error = float(temp[temp.prediction != temp.label].shape[0])/temp.shape[0]\n",
      "        summary.loc[i,'pct_error']=pct_error\n",
      "        index+=chunk\n",
      "    return score_df,summary\n",
      "score_df,score_summary=discretize_score(X_test,y_test,w_opt)\n",
      "\n",
      "score_summary.plot(x='avg_score',y='pct_error')\n",
      "plt.xlabel('Average Bin Score')\n",
      "plt.ylabel('Pct. Error')"
     ],
     "language": "python",
     "metadata": {},
     "outputs": [
      {
       "metadata": {},
       "output_type": "pyout",
       "prompt_number": 145,
       "text": [
        "<matplotlib.text.Text at 0x107a92290>"
       ]
      },
      {
       "metadata": {},
       "output_type": "display_data",
       "png": "[encoded data removed]",
       "text": [
        "<matplotlib.figure.Figure at 0x107a7c5d0>"
       ]
      }
     ],
     "prompt_number": 145
    },
    {
     "cell_type": "markdown",
     "metadata": {},
     "source": [
      "#5 Error Analysis\n",
      "The natural language processing domain is particularly nice in that one can often interpret why a model has performed well or poorly on a specific example, and sometimes it is not very difficult to come up with ideas for new features that might help fix a problem. The first step in this process is to look closely at the errors that our model makes.\n",
      "\n",
      "1. Choose some examples that the model got wrong. List the features that contributed most heavily to the decision (e.g. rank them by $|w_ix_i|$), along with $x_i, w_i, xw_i$. Do you understand why the model was incorrect? Can you think of a new feature that might be able to fix the issue? Include a short analysis for at least 3 incorrect examples.\n",
      "\n",
      ">The model incorrectly classified _cv082_11080_ as negative.  It had several instances of \"no\" and \"problems\", which the model interprets as indicating negative sentiment.  But in two cases the review was actually saying there were in fact \"no problems\".  Using bigrams or trigrams, rather than just bags of words, might help.\n",
      "\n",
      ">The next two reviews I sampled, _cv507_9220_ and _cv118_28980_, were heavily influenced by stopwords like 'and' and 'then'.  Removing stopwords might help, or at least make the model more interpretable. \n",
      "\n",
      ">The one notable thing I found in the 3rd review I sampled, _cv118_28980_, was frequent mention of 'apes', which counted against it.  Perhaps movies about apes tend to fare poorly?  I know for example that no film about apes has ever won an Oscar - they tend to favor historical dramas and the like.  "
     ]
    },
    {
     "cell_type": "code",
     "collapsed": false,
     "input": [
      "def load_file(ID,label):\n",
      "    '''\n",
      "    Display a single file from its ID\n",
      "    '''\n",
      "    home_dir = os.getcwd()\n",
      "    label_dir = \"data/pos\" if label==1 else \"data/neg\"\n",
      "    myfile = os.path.join(home_dir,label_dir,ID)\n",
      "\n",
      "    #Make sure file is available\n",
      "    assert os.path.isfile(myfile), \"File not found\"\n",
      "\n",
      "    f = open(myfile)\n",
      "    lines = f.read()\n",
      "    return lines\n",
      "\n",
      "score_df['abs_score']=abs(score_df['score'])\n",
      "wrongs = score_df[score_df['label']!=score_df['prediction']]\n",
      "wrongs.sort('abs_score',ascending=False)\n",
      "i=wrongs.index[1]\n",
      "\n",
      "def example_analysis(i):\n",
      "    '''\n",
      "    Print the review and a list of the most contributing words\n",
      "    Parameters: takes i as the index of the review\n",
      "    '''\n",
      "    example=X_test[i]\n",
      "    feature_dict = {}\n",
      "    for key in example:\n",
      "        w=w_opt[key] if (key in w_opt.keys()) else np.nan\n",
      "        x=example[key]\n",
      "        feature_dict[key]={'abs_xw':abs(x*w),'x':x,'w':w,'xw':x*w}\n",
      "    print \"Review file name:\",ids_test[i]\n",
      "    print \"True sentiment: \",y_test[i], \".  Predicted sentiment: \",wrongs.loc[i,'prediction']\n",
      "    print load_file(ids_test[i],y_test[i])\n",
      "\n",
      "    feature_df = pd.DataFrame.from_dict(feature_dict,'index')\n",
      "    return feature_df.sort('abs_xw',ascending=False)[:10]"
     ],
     "language": "python",
     "metadata": {},
     "outputs": [],
     "prompt_number": 208
    },
    {
     "cell_type": "code",
     "collapsed": false,
     "input": [
      "wrongs.head()"
     ],
     "language": "python",
     "metadata": {},
     "outputs": [
      {
       "html": [
        "<div style=\"max-height:1000px;max-width:1500px;overflow:auto;\">\n",
        "<table border=\"1\" class=\"dataframe\">\n",
        "  <thead>\n",
        "    <tr style=\"text-align: right;\">\n",
        "      <th></th>\n",
        "      <th>score</th>\n",
        "      <th>label</th>\n",
        "      <th>prediction</th>\n",
        "      <th>bin</th>\n",
        "      <th>abs_score</th>\n",
        "    </tr>\n",
        "  </thead>\n",
        "  <tbody>\n",
        "    <tr>\n",
        "      <th>72 </th>\n",
        "      <td>-59.816471</td>\n",
        "      <td> 1</td>\n",
        "      <td>-1</td>\n",
        "      <td> 1</td>\n",
        "      <td> 59.816471</td>\n",
        "    </tr>\n",
        "    <tr>\n",
        "      <th>224</th>\n",
        "      <td>-55.836129</td>\n",
        "      <td> 1</td>\n",
        "      <td>-1</td>\n",
        "      <td> 1</td>\n",
        "      <td> 55.836129</td>\n",
        "    </tr>\n",
        "    <tr>\n",
        "      <th>174</th>\n",
        "      <td>-47.363851</td>\n",
        "      <td> 1</td>\n",
        "      <td>-1</td>\n",
        "      <td> 1</td>\n",
        "      <td> 47.363851</td>\n",
        "    </tr>\n",
        "    <tr>\n",
        "      <th>13 </th>\n",
        "      <td>-46.029737</td>\n",
        "      <td> 1</td>\n",
        "      <td>-1</td>\n",
        "      <td> 1</td>\n",
        "      <td> 46.029737</td>\n",
        "    </tr>\n",
        "    <tr>\n",
        "      <th>392</th>\n",
        "      <td>-31.998445</td>\n",
        "      <td> 1</td>\n",
        "      <td>-1</td>\n",
        "      <td> 2</td>\n",
        "      <td> 31.998445</td>\n",
        "    </tr>\n",
        "  </tbody>\n",
        "</table>\n",
        "</div>"
       ],
       "metadata": {},
       "output_type": "pyout",
       "prompt_number": 209,
       "text": [
        "         score  label  prediction  bin  abs_score\n",
        "72  -59.816471      1          -1    1  59.816471\n",
        "224 -55.836129      1          -1    1  55.836129\n",
        "174 -47.363851      1          -1    1  47.363851\n",
        "13  -46.029737      1          -1    1  46.029737\n",
        "392 -31.998445      1          -1    2  31.998445"
       ]
      }
     ],
     "prompt_number": 209
    },
    {
     "cell_type": "code",
     "collapsed": false,
     "input": [
      "wrongs[(wrongs['label']==-1) & (wrongs['prediction']==1)].head()"
     ],
     "language": "python",
     "metadata": {},
     "outputs": [
      {
       "html": [
        "<div style=\"max-height:1000px;max-width:1500px;overflow:auto;\">\n",
        "<table border=\"1\" class=\"dataframe\">\n",
        "  <thead>\n",
        "    <tr style=\"text-align: right;\">\n",
        "      <th></th>\n",
        "      <th>score</th>\n",
        "      <th>label</th>\n",
        "      <th>prediction</th>\n",
        "      <th>bin</th>\n",
        "      <th>abs_score</th>\n",
        "    </tr>\n",
        "  </thead>\n",
        "  <tbody>\n",
        "    <tr>\n",
        "      <th>15 </th>\n",
        "      <td> 1.267489</td>\n",
        "      <td>-1</td>\n",
        "      <td> 1</td>\n",
        "      <td> 4</td>\n",
        "      <td> 1.267489</td>\n",
        "    </tr>\n",
        "    <tr>\n",
        "      <th>63 </th>\n",
        "      <td> 1.556621</td>\n",
        "      <td>-1</td>\n",
        "      <td> 1</td>\n",
        "      <td> 4</td>\n",
        "      <td> 1.556621</td>\n",
        "    </tr>\n",
        "    <tr>\n",
        "      <th>450</th>\n",
        "      <td> 1.556641</td>\n",
        "      <td>-1</td>\n",
        "      <td> 1</td>\n",
        "      <td> 4</td>\n",
        "      <td> 1.556641</td>\n",
        "    </tr>\n",
        "    <tr>\n",
        "      <th>321</th>\n",
        "      <td> 2.245933</td>\n",
        "      <td>-1</td>\n",
        "      <td> 1</td>\n",
        "      <td> 4</td>\n",
        "      <td> 2.245933</td>\n",
        "    </tr>\n",
        "    <tr>\n",
        "      <th>454</th>\n",
        "      <td> 2.401583</td>\n",
        "      <td>-1</td>\n",
        "      <td> 1</td>\n",
        "      <td> 4</td>\n",
        "      <td> 2.401583</td>\n",
        "    </tr>\n",
        "  </tbody>\n",
        "</table>\n",
        "</div>"
       ],
       "metadata": {},
       "output_type": "pyout",
       "prompt_number": 199,
       "text": [
        "        score  label  prediction  bin  abs_score\n",
        "15   1.267489     -1           1    4   1.267489\n",
        "63   1.556621     -1           1    4   1.556621\n",
        "450  1.556641     -1           1    4   1.556641\n",
        "321  2.245933     -1           1    4   2.245933\n",
        "454  2.401583     -1           1    4   2.401583"
       ]
      }
     ],
     "prompt_number": 199
    },
    {
     "cell_type": "code",
     "collapsed": false,
     "input": [
      "example_analysis(72)"
     ],
     "language": "python",
     "metadata": {},
     "outputs": [
      {
       "output_type": "stream",
       "stream": "stdout",
       "text": [
        "Review file name: cv082_11080.txt\n",
        "True sentiment:  1 .  Predicted sentiment:  -1.0\n",
        "a big surprise to me . \n",
        "the good trailer had hinted that they pulled the impossible off , but making a blues brothers movie without jake blues ( john belushi ) is such a dumb idea i really had no hope . \n",
        "they replaced him just fine . \n",
        "not with john goodman , he didn't do much of anything , but with the brilliant actor joe morton , who can really sing . \n",
        "the fourth blues brother is j evan bonifant , who's ten . \n",
        "this was another of my fears for the film , but he's a really good dancer , and plays a mean harmonica ( although he may have been dubbed ) . \n",
        "things that intellectually had bothered me before , like no mission from god , everyone being richer , it not being filmed in chicago -- gave me no problems at all . \n",
        "i'm quite pleased that there were less car pile-ups , because they meant less music , and john landis seems to have lost interest in the whole thing . \n",
        "there's a few early crashes , and then one huge pile-up , but after that it all stops . \n",
        "it's just the music . \n",
        "one of my problems with the first is that cab calloway's song is so good the actually blues brothers look dull after him , but there's no problems with this . \n",
        "the music is all as good as ever , tons of great musicians showing up -- with the exception of johnny lang , who can't sing , all the musicians do a great job . \n",
        "the only real problems i had was the special effects . \n",
        "these were superfluous and a waste of money . \n",
        "since the film isn't doing very well , they could mean we have no possibility of another sequel , which i want to see . \n",
        "the bluegrass version of riders in the sky is even better than rawhide . \n",
        "-- http : //www . geocities . com/hollywood/academy/8034/ \n",
        "remove no spam to reply . \n",
        " \" drive carefully but recklessly \" , mama , child's toy \" the only excercise i take is walking behind the coffins of friends who took exercise . \" \n",
        "peter o'toole \n",
        "\n"
       ]
      },
      {
       "html": [
        "<div style=\"max-height:1000px;max-width:1500px;overflow:auto;\">\n",
        "<table border=\"1\" class=\"dataframe\">\n",
        "  <thead>\n",
        "    <tr style=\"text-align: right;\">\n",
        "      <th></th>\n",
        "      <th>x</th>\n",
        "      <th>w</th>\n",
        "      <th>abs_xw</th>\n",
        "      <th>xw</th>\n",
        "    </tr>\n",
        "  </thead>\n",
        "  <tbody>\n",
        "    <tr>\n",
        "      <th>no</th>\n",
        "      <td> 6</td>\n",
        "      <td>-2.534977</td>\n",
        "      <td> 15.209861</td>\n",
        "      <td>-15.209861</td>\n",
        "    </tr>\n",
        "    <tr>\n",
        "      <th>good</th>\n",
        "      <td> 4</td>\n",
        "      <td> 2.979705</td>\n",
        "      <td> 11.918818</td>\n",
        "      <td> 11.918818</td>\n",
        "    </tr>\n",
        "    <tr>\n",
        "      <th>problems</th>\n",
        "      <td> 4</td>\n",
        "      <td>-2.579447</td>\n",
        "      <td> 10.317789</td>\n",
        "      <td>-10.317789</td>\n",
        "    </tr>\n",
        "    <tr>\n",
        "      <th>and</th>\n",
        "      <td> 4</td>\n",
        "      <td> 2.512735</td>\n",
        "      <td> 10.050940</td>\n",
        "      <td> 10.050940</td>\n",
        "    </tr>\n",
        "    <tr>\n",
        "      <th>only</th>\n",
        "      <td> 2</td>\n",
        "      <td>-4.825348</td>\n",
        "      <td>  9.650695</td>\n",
        "      <td> -9.650695</td>\n",
        "    </tr>\n",
        "    <tr>\n",
        "      <th>all</th>\n",
        "      <td> 4</td>\n",
        "      <td>-2.045769</td>\n",
        "      <td>  8.183077</td>\n",
        "      <td> -8.183077</td>\n",
        "    </tr>\n",
        "    <tr>\n",
        "      <th>great</th>\n",
        "      <td> 2</td>\n",
        "      <td> 3.780226</td>\n",
        "      <td>  7.560452</td>\n",
        "      <td>  7.560452</td>\n",
        "    </tr>\n",
        "    <tr>\n",
        "      <th>but</th>\n",
        "      <td> 6</td>\n",
        "      <td>-1.223012</td>\n",
        "      <td>  7.338072</td>\n",
        "      <td> -7.338072</td>\n",
        "    </tr>\n",
        "    <tr>\n",
        "      <th>have</th>\n",
        "      <td> 3</td>\n",
        "      <td>-2.268136</td>\n",
        "      <td>  6.804409</td>\n",
        "      <td> -6.804409</td>\n",
        "    </tr>\n",
        "    <tr>\n",
        "      <th>had</th>\n",
        "      <td> 4</td>\n",
        "      <td>-1.623273</td>\n",
        "      <td>  6.493092</td>\n",
        "      <td> -6.493092</td>\n",
        "    </tr>\n",
        "  </tbody>\n",
        "</table>\n",
        "</div>"
       ],
       "metadata": {},
       "output_type": "pyout",
       "prompt_number": 204,
       "text": [
        "          x         w     abs_xw         xw\n",
        "no        6 -2.534977  15.209861 -15.209861\n",
        "good      4  2.979705  11.918818  11.918818\n",
        "problems  4 -2.579447  10.317789 -10.317789\n",
        "and       4  2.512735  10.050940  10.050940\n",
        "only      2 -4.825348   9.650695  -9.650695\n",
        "all       4 -2.045769   8.183077  -8.183077\n",
        "great     2  3.780226   7.560452   7.560452\n",
        "but       6 -1.223012   7.338072  -7.338072\n",
        "have      3 -2.268136   6.804409  -6.804409\n",
        "had       4 -1.623273   6.493092  -6.493092"
       ]
      }
     ],
     "prompt_number": 204
    },
    {
     "cell_type": "code",
     "collapsed": false,
     "input": [
      "example_analysis(224)"
     ],
     "language": "python",
     "metadata": {},
     "outputs": [
      {
       "output_type": "stream",
       "stream": "stdout",
       "text": [
        "Review file name: cv507_9220.txt\n",
        "True sentiment:  1 .  Predicted sentiment:  -1.0\n",
        "capsule : side-splitting comedy that follows its own merciless logic almost through to the end . . . \n",
        "but not without providing a good deal of genuine laughs . \n",
        "most comedies these days have one flaw . \n",
        "they're not funny . \n",
        "they think they're funny , but they are devoid of anything really penetrating or dastardly . \n",
        "occasionally a good funny movie sneaks past the deadening hollywood preconceptions of humor and we get a real gem : ruthless people , for instance , which established a microcosm of a setup and played it out to the bitter end . \n",
        "liar liar is built the same way and is just about as funny . \n",
        "this is one of the few movies i've seen where i was laughing consistently almost all the way through : instead of a couple of set-pieces that inspired a laugh ( think of the dismal fatal instinct ) , the whole movie works like clockwork . \n",
        "jim carrey playes a high-powered lawyer , to whom lying is as natural as breathing . \n",
        "there is one thing he takes seriously , though : his son , and we can sense the affection that they have for each other right away . \n",
        "but his wife is divorced and seeing another man , and now it looks like they may move away together . \n",
        "the son goes with them , of course . \n",
        "the movie sets up this early material with good timing and a remarkable balance of jim carrey's over-the-top persona with reality . \n",
        "then the plot springs into action : after being snubbed ( not deliberately ) by his father at his birthday , the kid makes a wish as he blows out the birthday candles : that for just one day , dad can't lie . \n",
        "he gets the wish . \n",
        "what happens next is sidesplitting . \n",
        "everything turns into a confrontation : when cornered by a bum for some change , he shouts , \" no ! \n",
        "i'm not giving you any money because i know you'll spend it on booze ! \n",
        "all i want to do is to get to the office without having to step over the debris of our decaying society ! \" \n",
        "he can't even get into an elevator without earning a black eye . \n",
        "and what's worse , he's now gotten himself into an expensive divorce settlement that requires him to twist the truth like abstract wire sculpture . \n",
        "carrey , who i used to find unfunny , has gotten better at his schtick , even if it's a limited one . \n",
        "he uses it to great effect in this movie . \n",
        "there is a scene where he tries to test his ability to lie and nearly demolishes his office in the process ( there's a grin breaking out across my face right now , just remembering the scene ) . \n",
        "he can't even write the lie ; his fingers twitch , his body buckles like someone in the throes of cyanide poisoning , and when he tries to talk it's like he's speaking in tongues . \n",
        "equally funny is a scene where he beats himself to a pulp ( don't ask why ) , tries to drink water to keep from having outbursts in the courtroom ( it fails , with semi-predictable results ) , and winds up biting the bullet when he gets called into the boardroom to have everyone ask what they think of them . \n",
        "this scene alone may force people to stop the tape for minutes on end . \n",
        "the movie sustains its laughs and also its flashes of insight until almost the end . \n",
        "a shame , too , because the movie insists on having a big , ridiculous climax that involves carrey's character flagging down a plane using a set of motorized stairs , then breaking his leg , etc . a simple reconciliation would do the trick . \n",
        "why is this stupid pent-up climax always obligatory ? \n",
        "it's not even part of the movie's real agenda . \n",
        "thankfully , liar liar survives it , and so does carrey . \n",
        "maybe they were being merciful , on reflection . \n",
        "if i'd laughed any more , i might have needed an iron lung . \n",
        "\n"
       ]
      },
      {
       "html": [
        "<div style=\"max-height:1000px;max-width:1500px;overflow:auto;\">\n",
        "<table border=\"1\" class=\"dataframe\">\n",
        "  <thead>\n",
        "    <tr style=\"text-align: right;\">\n",
        "      <th></th>\n",
        "      <th>x</th>\n",
        "      <th>w</th>\n",
        "      <th>abs_xw</th>\n",
        "      <th>xw</th>\n",
        "    </tr>\n",
        "  </thead>\n",
        "  <tbody>\n",
        "    <tr>\n",
        "      <th>and</th>\n",
        "      <td> 13</td>\n",
        "      <td> 2.512735</td>\n",
        "      <td> 32.665556</td>\n",
        "      <td> 32.665556</td>\n",
        "    </tr>\n",
        "    <tr>\n",
        "      <th>he</th>\n",
        "      <td> 11</td>\n",
        "      <td> 2.379319</td>\n",
        "      <td> 26.172509</td>\n",
        "      <td> 26.172509</td>\n",
        "    </tr>\n",
        "    <tr>\n",
        "      <th>to</th>\n",
        "      <td> 18</td>\n",
        "      <td>-0.756045</td>\n",
        "      <td> 13.608805</td>\n",
        "      <td>-13.608805</td>\n",
        "    </tr>\n",
        "    <tr>\n",
        "      <th>tries</th>\n",
        "      <td>  3</td>\n",
        "      <td>-3.713517</td>\n",
        "      <td> 11.140550</td>\n",
        "      <td>-11.140550</td>\n",
        "    </tr>\n",
        "    <tr>\n",
        "      <th>then</th>\n",
        "      <td>  2</td>\n",
        "      <td>-5.403499</td>\n",
        "      <td> 10.806999</td>\n",
        "      <td>-10.806999</td>\n",
        "    </tr>\n",
        "    <tr>\n",
        "      <th>funny</th>\n",
        "      <td>  5</td>\n",
        "      <td>-1.934586</td>\n",
        "      <td>  9.672929</td>\n",
        "      <td> -9.672929</td>\n",
        "    </tr>\n",
        "    <tr>\n",
        "      <th>have</th>\n",
        "      <td>  4</td>\n",
        "      <td>-2.268136</td>\n",
        "      <td>  9.072545</td>\n",
        "      <td> -9.072545</td>\n",
        "    </tr>\n",
        "    <tr>\n",
        "      <th>is</th>\n",
        "      <td> 11</td>\n",
        "      <td> 0.822754</td>\n",
        "      <td>  9.050289</td>\n",
        "      <td>  9.050289</td>\n",
        "    </tr>\n",
        "    <tr>\n",
        "      <th>good</th>\n",
        "      <td>  3</td>\n",
        "      <td> 2.979705</td>\n",
        "      <td>  8.939114</td>\n",
        "      <td>  8.939114</td>\n",
        "    </tr>\n",
        "    <tr>\n",
        "      <th>even</th>\n",
        "      <td>  4</td>\n",
        "      <td>-2.223664</td>\n",
        "      <td>  8.894656</td>\n",
        "      <td> -8.894656</td>\n",
        "    </tr>\n",
        "  </tbody>\n",
        "</table>\n",
        "</div>"
       ],
       "metadata": {},
       "output_type": "pyout",
       "prompt_number": 205,
       "text": [
        "        x         w     abs_xw         xw\n",
        "and    13  2.512735  32.665556  32.665556\n",
        "he     11  2.379319  26.172509  26.172509\n",
        "to     18 -0.756045  13.608805 -13.608805\n",
        "tries   3 -3.713517  11.140550 -11.140550\n",
        "then    2 -5.403499  10.806999 -10.806999\n",
        "funny   5 -1.934586   9.672929  -9.672929\n",
        "have    4 -2.268136   9.072545  -9.072545\n",
        "is     11  0.822754   9.050289   9.050289\n",
        "good    3  2.979705   8.939114   8.939114\n",
        "even    4 -2.223664   8.894656  -8.894656"
       ]
      }
     ],
     "prompt_number": 205
    },
    {
     "cell_type": "code",
     "collapsed": false,
     "input": [
      "example_analysis(174)"
     ],
     "language": "python",
     "metadata": {},
     "outputs": [
      {
       "output_type": "stream",
       "stream": "stdout",
       "text": [
        "Review file name: cv118_28980.txt\n",
        "True sentiment:  1 .  Predicted sentiment:  -1.0\n",
        "plot : a human space astronaut accidentally falls upon a planet ruled by apes . \n",
        "he is taken prisoner along with some other humans , and tries his best to escape his simian captors . \n",
        "oh yeah , and did i mention that the apes can talk ? \n",
        "kewl ! \n",
        "critique : despite this film not looking like a \" tim burton movie \" or its lead human character showing any signs of being a human being himself , i did find myself generally entertained throughout most of this film and do recommend it as fun , summer fare . \n",
        "although the thing that sets this movie apart from all others is definitely its incredible ape make-up jobs and characterizations . \n",
        "i mean , i was completely convinced that every single one of these apes was for real ! \n",
        "i also have to \" give it up \" to all of the actors inside the costumes , not only for waking up at three in the morning every day to get make-up slobbered all over them for 2-4 hours , but for coming through their costumed exteriors and selling us their characters on the screen as well . \n",
        "i especially enjoyed bonham carter's performance , who i believed to be the most developed character in the entire film ( human or ape ) and tim roth's bad guy , who chewed up scenery and oozed evil in every scene in which he took part . \n",
        "plot-wise , i liked the beginning of the film , the whole build-up once wahlberg got into the village , the escape and most of the fight scenes , but once things got out into the deserted area ( and the final battle sequence ) , i kinda lost a bit of my interest . \n",
        "i was much more intrigued by the interactions between the characters and the whole idea of \" human beings as animals \" then i was about the end battle sequence , which just seemed a bit too typical for this kind of film . \n",
        "i also hated the \" kid \" character who just got on my nerves and didn't really care for the way that the battle sequence was resolved ( i won't ruin it here but c'mon guys . . . you \n",
        "coulda thought of something a little more plausible than that , no ? ) . \n",
        "but the thing that held this movie back more than anything else was its lead character , his cold demeanor and the zero chemistry that he shared with either one of his inter-species love interests . \n",
        "this dude didn't seem to give a rat's ass about anyone but himself and i ultimately didn't really care about what happened to him either . \n",
        "now i'm not sure if this was the fault of the actor or the script , but the film suffered because of it . \n",
        "visually , the movie was also nice to look at ( especially the apes ! ) , but i definitely expected greater coolness from tim burton . \n",
        "the \" surprise ending \" that highlighted the original planet of the apes film back in 1968 , felt a little tacked on here , and despite being interesting , didn't really make all that much sense to me ( unless you look at it from a sequel point of view ) . \n",
        "so overall , i loved the whole \" feel \" of the planet , the apes that ruled it , the manner in which they treated the humans , screamed , shouted and reverted the entire evolution chain , but didn't appreciate the film's lack of human character development ( why was kris kristofferson even in this movie ? ) and the fact that its lead male and female humans were just plain boring . \n",
        "but i would still recommend this film as a fun , summer movie with laughs , creepiness and a really cool premise . \n",
        "ps : for anyone who has seen the original , i cannot believe that they didn't at least bring back the scene in which the lead human character ( in this case , mark wahlberg ) goes nuts at the world in which he's suddenly been thrust ( \" this is a mad house ! \" - \n",
        "type of thing ) . \n",
        "the guy in this film barely seems to be \" put off \" by the fact that he's surrounded by apes who can speak english ! ! \n",
        "where's joblo coming from ? \n",
        "the arrival ( 8/10 ) - battlefield earth ( 7/10 ) - godzilla ( 4/10 ) - instinct ( 6/10 ) - mission to mars ( 3/10 ) - pitch black ( 7/10 ) - ( 1968 ) planet of the apes ( 9/10 ) - sleepy hollow ( 8/10 ) \n",
        "\n"
       ]
      },
      {
       "html": [
        "<div style=\"max-height:1000px;max-width:1500px;overflow:auto;\">\n",
        "<table border=\"1\" class=\"dataframe\">\n",
        "  <thead>\n",
        "    <tr style=\"text-align: right;\">\n",
        "      <th></th>\n",
        "      <th>x</th>\n",
        "      <th>w</th>\n",
        "      <th>abs_xw</th>\n",
        "      <th>xw</th>\n",
        "    </tr>\n",
        "  </thead>\n",
        "  <tbody>\n",
        "    <tr>\n",
        "      <th>and</th>\n",
        "      <td> 18</td>\n",
        "      <td> 2.512735</td>\n",
        "      <td> 45.229231</td>\n",
        "      <td> 45.229231</td>\n",
        "    </tr>\n",
        "    <tr>\n",
        "      <th>this</th>\n",
        "      <td> 12</td>\n",
        "      <td>-1.689983</td>\n",
        "      <td> 20.279794</td>\n",
        "      <td>-20.279794</td>\n",
        "    </tr>\n",
        "    <tr>\n",
        "      <th>apes</th>\n",
        "      <td>  8</td>\n",
        "      <td>-1.534326</td>\n",
        "      <td> 12.274611</td>\n",
        "      <td>-12.274611</td>\n",
        "    </tr>\n",
        "    <tr>\n",
        "      <th>the</th>\n",
        "      <td> 50</td>\n",
        "      <td> 0.222368</td>\n",
        "      <td> 11.118381</td>\n",
        "      <td> 11.118381</td>\n",
        "    </tr>\n",
        "    <tr>\n",
        "      <th>but</th>\n",
        "      <td>  9</td>\n",
        "      <td>-1.223012</td>\n",
        "      <td> 11.007107</td>\n",
        "      <td>-11.007107</td>\n",
        "    </tr>\n",
        "    <tr>\n",
        "      <th>at</th>\n",
        "      <td>  5</td>\n",
        "      <td>-2.001298</td>\n",
        "      <td> 10.006492</td>\n",
        "      <td>-10.006492</td>\n",
        "    </tr>\n",
        "    <tr>\n",
        "      <th>!</th>\n",
        "      <td>  6</td>\n",
        "      <td>-1.667746</td>\n",
        "      <td> 10.006478</td>\n",
        "      <td>-10.006478</td>\n",
        "    </tr>\n",
        "    <tr>\n",
        "      <th>also</th>\n",
        "      <td>  3</td>\n",
        "      <td> 3.335492</td>\n",
        "      <td> 10.006475</td>\n",
        "      <td> 10.006475</td>\n",
        "    </tr>\n",
        "    <tr>\n",
        "      <th>most</th>\n",
        "      <td>  3</td>\n",
        "      <td> 3.024182</td>\n",
        "      <td>  9.072546</td>\n",
        "      <td>  9.072546</td>\n",
        "    </tr>\n",
        "    <tr>\n",
        "      <th>bad</th>\n",
        "      <td>  1</td>\n",
        "      <td>-8.694517</td>\n",
        "      <td>  8.694517</td>\n",
        "      <td> -8.694517</td>\n",
        "    </tr>\n",
        "  </tbody>\n",
        "</table>\n",
        "</div>"
       ],
       "metadata": {},
       "output_type": "pyout",
       "prompt_number": 206,
       "text": [
        "       x         w     abs_xw         xw\n",
        "and   18  2.512735  45.229231  45.229231\n",
        "this  12 -1.689983  20.279794 -20.279794\n",
        "apes   8 -1.534326  12.274611 -12.274611\n",
        "the   50  0.222368  11.118381  11.118381\n",
        "but    9 -1.223012  11.007107 -11.007107\n",
        "at     5 -2.001298  10.006492 -10.006492\n",
        "!      6 -1.667746  10.006478 -10.006478\n",
        "also   3  3.335492  10.006475  10.006475\n",
        "most   3  3.024182   9.072546   9.072546\n",
        "bad    1 -8.694517   8.694517  -8.694517"
       ]
      }
     ],
     "prompt_number": 206
    },
    {
     "cell_type": "code",
     "collapsed": false,
     "input": [
      "example_analysis(15)"
     ],
     "language": "python",
     "metadata": {},
     "outputs": [
      {
       "output_type": "stream",
       "stream": "stdout",
       "text": [
        "Review file name: cv165_2389.txt\n",
        "True sentiment:  -1 .  Predicted sentiment:  1.0\n",
        "what are we going to do with jim carrey ? \n",
        "viewers of television's \" in living color \" know this one-man cartoon from such characters as fire marshall bill . \n",
        "viewers also know that \" in living color \" is a skit-show and that a little of jim carrey goes a long way . \n",
        "unfortunately , this fact was forgotten by the makers of the carrey comedy ace ventura : pet detective . \n",
        "three writers , including carrey , worked on the slapstick story , which sends a self-styled \" pet detective \" on the trail of a stolen dolphin . \n",
        "the missing mammal belongs to the miami dolphins , who need their mascot for the upcoming superbowl . \n",
        "for plot porpoises , this story works as well as any three stooges short . \n",
        "carrey gets to do his \" official \" schtick as he snoops around greater miami . \n",
        "he leers and sneers , craning his neck to funny effect . \n",
        "he even does his captain kirk impersonation . \n",
        "again . \n",
        "all of this is pretty harmless stuff up until the point that you realize that the writers have absolutely no intention of focusing on anyone * other * than carrey . \n",
        " ( suggested alternate title--jim carrey : will do anything for a laugh . ) \n",
        "export it to france and you may have a hit . \n",
        "as it stands , ace ventura isn't even good kid's stuff . \n",
        "the profanity count , alone , is too high . \n",
        "which is ironic , since children are , probably , carrey's best audience . \n",
        "the film doesn't even have the goofball charm of chris elliott's recent no-brainer cabin boy . \n",
        "sure , carrey has his moments . \n",
        "but what can you say about a film whose high-points include watching carrey slink around to the theme from \" mission impossible ? \" \n",
        "ace ventura has one glaring incongruity . \n",
        "amid the butt-jokes and double-takes , the script takes great pains to set-up an elaborate and rather funny \" crying game \" gag . \n",
        "and , for * this * intended audience , that takes ( ahem ) cojones . \n",
        "\n"
       ]
      },
      {
       "html": [
        "<div style=\"max-height:1000px;max-width:1500px;overflow:auto;\">\n",
        "<table border=\"1\" class=\"dataframe\">\n",
        "  <thead>\n",
        "    <tr style=\"text-align: right;\">\n",
        "      <th></th>\n",
        "      <th>x</th>\n",
        "      <th>w</th>\n",
        "      <th>abs_xw</th>\n",
        "      <th>xw</th>\n",
        "    </tr>\n",
        "  </thead>\n",
        "  <tbody>\n",
        "    <tr>\n",
        "      <th>and</th>\n",
        "      <td> 6</td>\n",
        "      <td> 2.512735</td>\n",
        "      <td> 15.076410</td>\n",
        "      <td> 15.076410</td>\n",
        "    </tr>\n",
        "    <tr>\n",
        "      <th>you</th>\n",
        "      <td> 3</td>\n",
        "      <td> 3.157599</td>\n",
        "      <td>  9.472797</td>\n",
        "      <td>  9.472797</td>\n",
        "    </tr>\n",
        "    <tr>\n",
        "      <th>this</th>\n",
        "      <td> 5</td>\n",
        "      <td>-1.689983</td>\n",
        "      <td>  8.449914</td>\n",
        "      <td> -8.449914</td>\n",
        "    </tr>\n",
        "    <tr>\n",
        "      <th>do</th>\n",
        "      <td> 3</td>\n",
        "      <td>-2.557211</td>\n",
        "      <td>  7.671634</td>\n",
        "      <td> -7.671634</td>\n",
        "    </tr>\n",
        "    <tr>\n",
        "      <th>he</th>\n",
        "      <td> 3</td>\n",
        "      <td> 2.379319</td>\n",
        "      <td>  7.137957</td>\n",
        "      <td>  7.137957</td>\n",
        "    </tr>\n",
        "    <tr>\n",
        "      <th>have</th>\n",
        "      <td> 3</td>\n",
        "      <td>-2.268136</td>\n",
        "      <td>  6.804409</td>\n",
        "      <td> -6.804409</td>\n",
        "    </tr>\n",
        "    <tr>\n",
        "      <th>even</th>\n",
        "      <td> 3</td>\n",
        "      <td>-2.223664</td>\n",
        "      <td>  6.670992</td>\n",
        "      <td> -6.670992</td>\n",
        "    </tr>\n",
        "    <tr>\n",
        "      <th>to</th>\n",
        "      <td> 7</td>\n",
        "      <td>-0.756045</td>\n",
        "      <td>  5.292313</td>\n",
        "      <td> -5.292313</td>\n",
        "    </tr>\n",
        "    <tr>\n",
        "      <th>unfortunately</th>\n",
        "      <td> 1</td>\n",
        "      <td>-4.892058</td>\n",
        "      <td>  4.892058</td>\n",
        "      <td> -4.892058</td>\n",
        "    </tr>\n",
        "    <tr>\n",
        "      <th>as</th>\n",
        "      <td> 5</td>\n",
        "      <td> 0.956174</td>\n",
        "      <td>  4.780872</td>\n",
        "      <td>  4.780872</td>\n",
        "    </tr>\n",
        "  </tbody>\n",
        "</table>\n",
        "</div>"
       ],
       "metadata": {},
       "output_type": "pyout",
       "prompt_number": 207,
       "text": [
        "               x         w     abs_xw         xw\n",
        "and            6  2.512735  15.076410  15.076410\n",
        "you            3  3.157599   9.472797   9.472797\n",
        "this           5 -1.689983   8.449914  -8.449914\n",
        "do             3 -2.557211   7.671634  -7.671634\n",
        "he             3  2.379319   7.137957   7.137957\n",
        "have           3 -2.268136   6.804409  -6.804409\n",
        "even           3 -2.223664   6.670992  -6.670992\n",
        "to             7 -0.756045   5.292313  -5.292313\n",
        "unfortunately  1 -4.892058   4.892058  -4.892058\n",
        "as             5  0.956174   4.780872   4.780872"
       ]
      }
     ],
     "prompt_number": 207
    },
    {
     "cell_type": "markdown",
     "metadata": {},
     "source": [
      "#6 Features\n",
      "For a problem like this, the features you use are far more important than the learning model you choose. Whenever you enter a new problem domain, one of your first orders of business is to beg, borrow, or steal the best features you can find. This means looking at any relevant published work and seeing what they\u2019ve used. Maybe it means asking a colleague what features they use. But eventually you\u2019ll need to engineer new features that help in your particular situation. To get ideas for this dataset, you might check the discussion board on this Kaggle competition, which is using a very similar dataset https://www.kaggle.com/c/sentiment-analysis-on-movie-reviews. There are also a very large number of academic research papers on sentiment analysis that you can look at for ideas.\n",
      "\n",
      "1\\.  Based on your error analysis, or on some idea you have, find a new feature (or group of features) that improve your test performance. Describe the features and what kind of improvement they give. At this point, it\u2019s important to consider the standard errors $(\\sqrt{\udbff\udc05p(1 \u2212 p)/n})$ on your performance estimates, to know whether the improvement is statistically significant.\n",
      ">From the beginning, I removed singleton words - words which only appear once in the corpus - to improve efficiency.  Removing stop words improved model performance by ~3 percentage points.  Adding in a review's word count did not improve model performance.  "
     ]
    },
    {
     "cell_type": "code",
     "collapsed": false,
     "input": [
      "def evaluate_model(X,y,remove_stops=False, Lambda=0.1):\n",
      "    w = initialize_w(1)\n",
      "    w_opt = pegasos(X,y,Lambda,w,30, delta=0.1, plot=False, remove_stops=remove_stops)\n",
      "    pct_err = get_pct_error(X_test,y_test,w_opt)\n",
      "    std_err = np.sqrt(pct_err*(1-pct_err)/len(X_test))\n",
      "\n",
      "    print \"Percent Error: %f +/- %f\" %(pct_err,std_err)"
     ],
     "language": "python",
     "metadata": {},
     "outputs": [],
     "prompt_number": 258
    },
    {
     "cell_type": "code",
     "collapsed": false,
     "input": [
      "X,y,ids=lists2bags(train)\n",
      "X_test,y_test,ids_test=lists2bags(test)\n",
      "\n",
      "print \"Model with stopwords included\"\n",
      "evaluate_model(X,y)\n",
      "\n",
      "print \"\"\n",
      "print \"Model with stopwords removed\"\n",
      "evaluate_model(X,y,remove_stops=True)\n",
      "\n",
      "  \n",
      "#Add a word count feature\n",
      "for review in X:\n",
      "    total_words=0\n",
      "    for key in review:\n",
      "        total_words+=review[key]\n",
      "    review['word_count']=total_words\n",
      "\n",
      "print \"\"\n",
      "print \"With word counts\"\n",
      "evaluate_model(X,y)"
     ],
     "language": "python",
     "metadata": {},
     "outputs": [
      {
       "output_type": "stream",
       "stream": "stdout",
       "text": [
        "Model with stopwords included\n",
        "Time taken: 8 seconds"
       ]
      },
      {
       "output_type": "stream",
       "stream": "stdout",
       "text": [
        "\n",
        "Percent Error: 0.178000 +/- 0.017106"
       ]
      },
      {
       "output_type": "stream",
       "stream": "stdout",
       "text": [
        "\n",
        "\n",
        "Model with stopwords removed\n",
        "Time taken: 3 seconds"
       ]
      },
      {
       "output_type": "stream",
       "stream": "stdout",
       "text": [
        "\n",
        "Percent Error: 0.152000 +/- 0.016056"
       ]
      },
      {
       "output_type": "stream",
       "stream": "stdout",
       "text": [
        "\n"
       ]
      },
      {
       "output_type": "stream",
       "stream": "stdout",
       "text": [
        "\n",
        "With word counts\n",
        "Time taken: 22 seconds"
       ]
      },
      {
       "output_type": "stream",
       "stream": "stdout",
       "text": [
        "\n",
        "Percent Error: 0.504000 +/- 0.022360"
       ]
      },
      {
       "output_type": "stream",
       "stream": "stdout",
       "text": [
        "\n"
       ]
      }
     ],
     "prompt_number": 229
    },
    {
     "cell_type": "markdown",
     "metadata": {},
     "source": [
      "2\\. [Optional] Try to get the best performance possible by generating lots of new features, changing the pre-processing, or any other method you want, so long as you are using the same core SVM model. Describe what you tried, and how much improvement each thing brought to the model. To get you thinking on features, here are some basic ideas of varying quality: 1) how many words are in the review? 2) How many \u201cnegative\u201d words are there? (You\u2019d have to construct or find a list of negative words.) 3) Word n-gram features: Instead of single-word features, you can make every pair of consecutive words a feature. 4) Character n-gram features: Ignore word boundaries and make every sequence of n characters into a feature (this will be a lot). 5) Adding an extra feature whenever a word is preceded by \u201cnot\u201d. For example \u201cnot amazing\u201d becomes its own feature. 6) Do we really need to eliminate those funny characters in the data loading phase? Might there be useful signal there? 7) Use tf-idf instead of raw word counts. The tf-idf is calculated as \n",
      "$$\\textrm{tfidf}(f_i) = \\frac{FF_i}{log(DF_i)}$$\n",
      "where $F F_i$ is the feature frequency of feature $f_i$ and $DF_i$ is the number of document containing $f_i$. In this way we increase the weight of rare words. Sometimes this scheme helps, sometimes it makes things worse. You could try using both! [Extra credit points will be awarded in proportion to how much improvement you achieve.]\n",
      ">I was able to get an accuracy improvement of 2 percentage points by adding bigrams to the model, in addition to the unigrams. The best model, which removed stop words and singleton words, and used bigrams, had percent error of %13.2.  I suspect bigrams addressed issues like the above \"no problems\", so that positive words that get negated become negative words.  Additional code for this is below.  "
     ]
    },
    {
     "cell_type": "code",
     "collapsed": false,
     "input": [
      "def append_bigrams(List):\n",
      "    prev_word = 'start_of_review'\n",
      "    bigrams=[]\n",
      "    for word in List:\n",
      "        bigram = prev_word + ' ' + str(word)\n",
      "        bigrams.append(bigram)\n",
      "        prev_word=str(word)\n",
      "        \n",
      "    return bigrams + List"
     ],
     "language": "python",
     "metadata": {},
     "outputs": [],
     "prompt_number": 250
    },
    {
     "cell_type": "code",
     "collapsed": false,
     "input": [
      "def lists2bigrams(lists):\n",
      "    '''Converts list of words into sparse bag-of-words representation'''\n",
      "    bags = []\n",
      "    labels = []\n",
      "    ids = []\n",
      "    for review in lists:\n",
      "        #append bigrams\n",
      "        review = append_bigrams(review)\n",
      "        #don't include the review's label or id\n",
      "        bag = collections.Counter(review[:-2])\n",
      "        bags.append(bag)\n",
      "        labels.append(review[-2])\n",
      "        ids.append(review[-1])\n",
      "    return bags,labels,ids"
     ],
     "language": "python",
     "metadata": {},
     "outputs": [],
     "prompt_number": 251
    },
    {
     "cell_type": "code",
     "collapsed": false,
     "input": [
      "w_opt,Lambdas,loss_hist=Lambda_search(pegasos,False)\n",
      "plt.plot(Lambdas,loss_hist)\n",
      "plt.xlabel('Lambda')\n",
      "plt.ylabel('Pct. Error')\n",
      "plt.xscale('log')\n",
      "plt.title('Pct. Error vs. Lambda')\n",
      "plt.show()"
     ],
     "language": "python",
     "metadata": {},
     "outputs": [
      {
       "output_type": "stream",
       "stream": "stdout",
       "text": [
        "Starting Loop\n",
        "Lambda"
       ]
      },
      {
       "output_type": "stream",
       "stream": "stdout",
       "text": [
        " 100\n",
        "Time taken: 14 seconds"
       ]
      },
      {
       "output_type": "stream",
       "stream": "stdout",
       "text": [
        "\n",
        "Lambda"
       ]
      },
      {
       "output_type": "stream",
       "stream": "stdout",
       "text": [
        " 10\n",
        "Time taken: 15 seconds"
       ]
      },
      {
       "output_type": "stream",
       "stream": "stdout",
       "text": [
        "\n",
        "Lambda"
       ]
      },
      {
       "output_type": "stream",
       "stream": "stdout",
       "text": [
        " 1\n",
        "Time taken: 15 seconds"
       ]
      },
      {
       "output_type": "stream",
       "stream": "stdout",
       "text": [
        "\n",
        "Lambda"
       ]
      },
      {
       "output_type": "stream",
       "stream": "stdout",
       "text": [
        " 0.1\n",
        "Time taken: 34 seconds"
       ]
      },
      {
       "output_type": "stream",
       "stream": "stdout",
       "text": [
        "\n",
        "Lambda"
       ]
      },
      {
       "output_type": "stream",
       "stream": "stdout",
       "text": [
        " 0.01\n",
        "Time taken: 67 seconds"
       ]
      },
      {
       "output_type": "stream",
       "stream": "stdout",
       "text": [
        "\n",
        "Lambda"
       ]
      },
      {
       "output_type": "stream",
       "stream": "stdout",
       "text": [
        " 0.001\n",
        "Time taken: 85 seconds"
       ]
      },
      {
       "output_type": "stream",
       "stream": "stdout",
       "text": [
        "\n",
        "Best Lambda:"
       ]
      },
      {
       "output_type": "stream",
       "stream": "stdout",
       "text": [
        " 0.001\n",
        "Square Loss on Test Data: 0.152\n"
       ]
      },
      {
       "metadata": {},
       "output_type": "display_data",
       "png": "[encoded data removed]",
       "text": [
        "<matplotlib.figure.Figure at 0x10f187710>"
       ]
      }
     ],
     "prompt_number": 256
    },
    {
     "cell_type": "code",
     "collapsed": false,
     "input": [
      "X,y,ids=lists2bigrams(train)\n",
      "X_test,y_test,ids_test=lists2bigrams(test)\n",
      "evaluate_model(X,y,remove_stops=True,Lambda=0.001)"
     ],
     "language": "python",
     "metadata": {},
     "outputs": [
      {
       "output_type": "stream",
       "stream": "stdout",
       "text": [
        "Time taken: 57 seconds\n",
        "Percent Error: 0.132000 +/- 0.015138"
       ]
      },
      {
       "output_type": "stream",
       "stream": "stdout",
       "text": [
        "\n"
       ]
      }
     ],
     "prompt_number": 259
    },
    {
     "cell_type": "markdown",
     "metadata": {},
     "source": [
      "#7 Feedback (not graded)\n",
      "1. Approximately how long did it take to complete this assignment?\n",
      ">22 hours\n",
      "\n",
      "2. Did you find the Python programming challenging (in particular, converting your code to use sparse representations)?\n",
      ">The python was fairly straightforward.  There are always snags and frustrations - for example, I had a tougher time than I expected discretizing the scores into bins in part 5.  \n",
      "\n",
      "3. Any other feedback?\n",
      ">For the first time I felt comfortable with this assignment, and confident that I had enough time to thoroughly understand what I was doing, rather than just following the steps.  "
     ]
    }
   ],
   "metadata": {}
  }
 ]
}