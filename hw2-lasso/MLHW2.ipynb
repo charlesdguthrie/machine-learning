{
 "metadata": {
  "name": "",
  "signature": "sha256:d5647ba45d8f78d9c636d9db9c494d101b899b9b22ca3f0c544e2ee95473bde6"
 },
 "nbformat": 3,
 "nbformat_minor": 0,
 "worksheets": [
  {
   "cells": [
    {
     "cell_type": "code",
     "collapsed": false,
     "input": [
      "import numpy as np\n",
      "import matplotlib.pyplot as plt\n",
      "%matplotlib inline\n",
      "import timeit"
     ],
     "language": "python",
     "metadata": {},
     "outputs": [],
     "prompt_number": 1
    },
    {
     "cell_type": "markdown",
     "metadata": {},
     "source": [
      "---\n",
      "#1 Preliminaries\n",
      "\n",
      "---\n",
      "##1.1 Dataset construction\n",
      "Start by creating a design matrix for regression with $m = 150$ examples, each of dimension $d = 75$.  We will choose a true weight vector $\\theta$ that has only a few non-zero components:"
     ]
    },
    {
     "cell_type": "code",
     "collapsed": false,
     "input": [
      "def create_design_matrix(examples,dimensions,seed=1):\n",
      "    \"\"\"\n",
      "    examples: number of data points\n",
      "    dimensions: number of features\n",
      "    seed: for replicating randomization\n",
      "    \"\"\"\n",
      "    np.random.seed(seed)\n",
      "    X = np.random.rand(examples,dimensions)\n",
      "    theta = np.zeros(dimensions)\n",
      "    np.random.seed(seed)\n",
      "\n",
      "    first_ten = np.random.randint(2, size=10)\n",
      "    first_ten[first_ten==0] = -10\n",
      "    first_ten[first_ten==1] = 10\n",
      "    #theta[0:10] = [10,-10,10,10,-10,-10,10,10,10,-10]\n",
      "    theta[0:10]=first_ten\n",
      "    np.random.seed(seed)\n",
      "    \n",
      "    epsilon = 0.1*np.random.randn(examples)\n",
      "    y = np.dot(X,theta) + epsilon\n",
      "    \n",
      "    return X,y,theta\n",
      "\n",
      "\n",
      "def train_test_split(X,y,n_train,n_val,n_test):\n",
      "    assert n_train+n_val+n_test == 150, \"Train test split doesn't add up\"\n",
      "    X_train = X[:n_train,:]\n",
      "    y_train = y[:n_train]\n",
      "    X_val = X[n_train:n_train+n_val,:]\n",
      "    y_val = y[n_train:n_train+n_val]\n",
      "    X_test = X[n_train+n_val:,:]\n",
      "    y_test = y[n_train+n_val:]\n",
      "    return X_train, y_train, X_val, y_val, X_test, y_test\n",
      "\n",
      "(X_all,y_all,true_theta) = create_design_matrix(150,75)\n",
      "(X_train, y_train, X_val, y_val, X_test, y_test)=train_test_split(X_all,y_all,80,20,50)\n",
      "\n",
      "print \"train\",X_train.shape\n",
      "print \"val\",X_val.shape\n",
      "print \"test\",X_test.shape\n",
      "print \"ytrain\",y_train.shape\n",
      "print \"yval\",y_val.shape\n",
      "print \"ytest\",y_test.shape"
     ],
     "language": "python",
     "metadata": {},
     "outputs": [
      {
       "output_type": "stream",
       "stream": "stdout",
       "text": [
        "train (80, 75)\n",
        "val (20, 75)\n",
        "test (50, 75)\n",
        "ytrain (80,)\n",
        "yval (20,)\n",
        "ytest (50,)\n"
       ]
      }
     ],
     "prompt_number": 13
    },
    {
     "cell_type": "markdown",
     "metadata": {},
     "source": [
      "---\n",
      "##1.2 Experiments with Ridge Regression\n",
      "1. Run ridge regression on this dataset.  Choose the $\\lambda$ that minimizes the square loss on the validation set. "
     ]
    },
    {
     "cell_type": "code",
     "collapsed": false,
     "input": [
      "from sklearn.linear_model import Ridge\n",
      "from scipy.optimize import minimize"
     ],
     "language": "python",
     "metadata": {},
     "outputs": [],
     "prompt_number": 3
    },
    {
     "cell_type": "code",
     "collapsed": false,
     "input": [
      "def ridge(X,y,Lambda):\n",
      "    (N,D) = X.shape\n",
      "    \"\"\"\n",
      "    takes a regularization term Lambda and returns objective function ridge_obj\n",
      "    \"\"\"\n",
      "    def ridge_obj(theta):\n",
      "        return ((np.linalg.norm(np.dot(X,theta) - y))**2)/(2*N) + Lambda*(np.linalg.norm(theta))**2\n",
      "    return ridge_obj\n",
      "\n",
      "def compute_loss(X,y,theta):\n",
      "    (N,D) = X.shape        \n",
      "    \"\"\"\n",
      "    Computes loss for given dataset and weight vector theta\n",
      "    \"\"\"\n",
      "    return ((np.linalg.norm(np.dot(X,theta) - y))**2)/(2*N)\n",
      "\n",
      "def run_ridge_regression():\n",
      "    (N,D) = X.shape\n",
      "    w = np.random.rand(D,1)\n",
      "\n",
      "    #Sklearn implementation\n",
      "    def ridge_regression(alpha,train,val):\n",
      "        ridge_model = Ridge(alpha)\n",
      "        #ridge_model.fit(X, y)\n",
      "    \n",
      "    #Try various Lambdas, optimize theta, and print loss\n",
      "    t=0\n",
      "    loss_opt=lambda_opt=w_opt_opt=np.nan\n",
      "    Lambdas=[]\n",
      "    loss_hist=[]\n",
      "    for i in range(-9,1):\n",
      "        Lambda = 10**i;\n",
      "        Lambdas.append(Lambda)\n",
      "        w_opt = minimize(ridge(X_train,y_train,Lambda), w)\n",
      "        loss=compute_loss(X_val,y_val, w_opt.x)\n",
      "        loss_hist.append(loss)\n",
      "        if t==0 or loss<loss_opt:\n",
      "            loss_opt = loss\n",
      "            lambda_opt = Lambda\n",
      "            w_opt_opt = w_opt.x.copy()\n",
      "        t=t+1  \n",
      "    \n",
      "    return w_opt_opt,Lambdas,loss_hist\n",
      "w_ridge,lambda_ridge,loss_ridge = run_ridge_regression()"
     ],
     "language": "python",
     "metadata": {},
     "outputs": [],
     "prompt_number": 4
    },
    {
     "cell_type": "code",
     "collapsed": false,
     "input": [
      "def ridge(X,y,Lambda):\n",
      "    (N,D) = X.shape\n",
      "    \"\"\"\n",
      "    takes a regularization term Lambda and returns objective function ridge_obj\n",
      "    \"\"\"\n",
      "    def ridge_obj(theta):\n",
      "        return ((np.linalg.norm(np.dot(X,theta) - y))**2)/(2*N) + Lambda*(np.linalg.norm(theta))**2\n",
      "    return ridge_obj\n",
      "\n",
      "def compute_loss(X,y,theta):\n",
      "    (N,D) = X.shape        \n",
      "    \"\"\"\n",
      "    Computes loss for given dataset and weight vector theta\n",
      "    \"\"\"\n",
      "    return ((np.linalg.norm(np.dot(X,theta) - y))**2)/(2*N)\n",
      "\n",
      "def run_ridge_regression():\n",
      "    (N,D) = X.shape\n",
      "    w = np.random.rand(D,1)\n",
      "\n",
      "    #Sklearn implementation\n",
      "    def ridge_regression(alpha,train,val):\n",
      "        ridge_model = Ridge(alpha)\n",
      "        #ridge_model.fit(X, y)\n",
      "    \n",
      "    #Try various Lambdas, optimize theta, and print loss\n",
      "    t=0\n",
      "    loss_opt=lambda_opt=w_opt_opt=np.nan\n",
      "    Lambdas=[]\n",
      "    loss_hist=[]\n",
      "    for i in range(-9,1):\n",
      "        Lambda = 10**i;\n",
      "        Lambdas.append(Lambda)\n",
      "        w_opt = minimize(ridge(X_train,y_train,Lambda), w)\n",
      "        loss=compute_loss(X_val,y_val, w_opt.x)\n",
      "        loss_hist.append(loss)\n",
      "        if t==0 or loss<loss_opt:\n",
      "            loss_opt = loss\n",
      "            lambda_opt = Lambda\n",
      "            w_opt_opt = w_opt.x.copy()\n",
      "        t=t+1  \n",
      "\n",
      "    print \"Best Lambda\",lambda_opt\n",
      "    print \"Best Loss\", loss_opt\n",
      "    \n",
      "    return w_opt_opt,Lambdas,loss_hist\n",
      "        \n",
      "w_ridge,lambdas_ridge,loss_hist_ridge = run_ridge_regression()"
     ],
     "language": "python",
     "metadata": {},
     "outputs": [
      {
       "output_type": "stream",
       "stream": "stdout",
       "text": [
        "Best Lambda 1e-06\n",
        "Best Loss 0.0171323767578\n"
       ]
      }
     ],
     "prompt_number": 5
    },
    {
     "cell_type": "code",
     "collapsed": false,
     "input": [
      "plt.plot(lambdas_ridge,loss_hist_ridge)\n",
      "plt.xlabel('Lambda')\n",
      "plt.ylabel('Loss')\n",
      "plt.xscale('log')\n",
      "plt.title('Ridge Regression: Loss vs. Lambda')\n",
      "plt.show()"
     ],
     "language": "python",
     "metadata": {},
     "outputs": [
      {
       "metadata": {},
       "output_type": "display_data",
       "png": "[encoded data removed]",
       "text": [
        "<matplotlib.figure.Figure at 0x1078d4950>"
       ]
      }
     ],
     "prompt_number": 6
    },
    {
     "cell_type": "code",
     "collapsed": false,
     "input": [
      "def evaluate_theta_estimate(truth,est, tolerance=0):\n",
      "    print \"tolerance\",tolerance\n",
      "    false_nonzeros = len(est[(truth==0) & (est!=0)])\n",
      "    false_zeros = len(est[(truth!=0) & (abs(est)<tolerance)])\n",
      "    print \"True theta is zero, estimate is nonzero\",false_nonzeros\n",
      "    print \"True theta is nonzero, estimate is zero\",false_zeros\n",
      "    return false_nonzeros,false_zeros\n",
      "\n",
      "evaluate_theta_estimate(true_theta,w_ridge)\n",
      "evaluate_theta_estimate(true_theta,w_ridge,tolerance=10**-3)"
     ],
     "language": "python",
     "metadata": {},
     "outputs": [
      {
       "output_type": "stream",
       "stream": "stdout",
       "text": [
        "tolerance 0\n",
        "True theta is zero, estimate is nonzero 65\n",
        "True theta is nonzero, estimate is zero 0\n",
        "tolerance 0.001\n",
        "True theta is zero, estimate is nonzero 65\n",
        "True theta is nonzero, estimate is zero 0\n"
       ]
      },
      {
       "metadata": {},
       "output_type": "pyout",
       "prompt_number": 14,
       "text": [
        "(65, 0)"
       ]
      }
     ],
     "prompt_number": 14
    },
    {
     "cell_type": "markdown",
     "metadata": {},
     "source": [
      "---\n",
      "#2 Lasso\n",
      "\n",
      "---\n",
      "##2.1 Shooting Algorithm\n",
      "1. Write a function that computes the Lasso solution for a given \u03bb using the shooting algorithm described above. This function should take a starting point for the optimization as a parameter. Run it on the dataset constructed in (1.1), and select the \u03bb that minimizes the square error on the validation set. Report the optimal value of \u03bb found, and the corresponding test error. Plot the validation error vs \u03bb.\n",
      ">The optimal $\\lambda$ found was 10, corresponding test error was 443.  "
     ]
    },
    {
     "cell_type": "code",
     "collapsed": false,
     "input": [
      "def soft(a,d):\n",
      "    return np.sign(a) * max(abs(a)-d,0)\n",
      "\n",
      "def lasso_shooting(X,y,Lambda, w_init=w_ridge, tolerance=1e-5):\n",
      "    \"\"\"\n",
      "    Takes training data and regularization Lambda,\n",
      "    performs coordinate descent for lasso, aka the \"shooting algorithm\",\n",
      "    and returns a vector of estimated weights\n",
      "    \"\"\"\n",
      "    (N,D) = X.shape\n",
      "    \n",
      "    if len(w_init)==0:\n",
      "        w=np.ones(D)\n",
      "    else: w=w_init\n",
      "    \n",
      "    maxIter = 1000\n",
      "    converged = False\n",
      "    iteration=1\n",
      "    while (converged==False) & (iteration<maxIter):\n",
      "        w_old = w.copy()\n",
      "        for j in range(D):\n",
      "            aj=cj=0\n",
      "            for i in range(1,N):\n",
      "                aj=aj+2*X[i,j]**2\n",
      "                cj=cj+2*X[i,j]*(y[i]-np.dot(w,X[i,:])+ w[j]*X[i,j])\n",
      "\n",
      "            w[j] = soft(cj/aj,Lambda/aj)\n",
      "        iteration=iteration+1\n",
      "        converged = (sum(abs(w-w_old)) < tolerance)\n",
      "        \n",
      "    print \"Converged:\",converged,\"Iterations:\",iteration\n",
      "    return w\n",
      "\n",
      "%timeit lasso_shooting(X_train,y_train,10)"
     ],
     "language": "python",
     "metadata": {},
     "outputs": [
      {
       "output_type": "stream",
       "stream": "stdout",
       "text": [
        "Converged: True Iterations: 326\n",
        "Converged:"
       ]
      },
      {
       "output_type": "stream",
       "stream": "stdout",
       "text": [
        " True Iterations: 2\n",
        "Converged:"
       ]
      },
      {
       "output_type": "stream",
       "stream": "stdout",
       "text": [
        " True Iterations: 2\n",
        "Converged:"
       ]
      },
      {
       "output_type": "stream",
       "stream": "stdout",
       "text": [
        " True Iterations: 2\n",
        "1 loops, best of 3: 74 ms per loop\n"
       ]
      }
     ],
     "prompt_number": 47
    },
    {
     "cell_type": "code",
     "collapsed": false,
     "input": [
      "def Lambda_search(lasso_func):\n",
      "    \"\"\"\n",
      "    Runs lasso_shooting on a training set with a variety of \n",
      "    regularization hyperparameters Lambda.  \n",
      "    Selects the lambda that minimizes square error on the validation set.\n",
      "    Plots validation error vs. Lambda\n",
      "    Prints selected lambda along with corresponding test error.\n",
      "    \"\"\"\n",
      "    #loop through array of lambdas\n",
      "    t=0\n",
      "    Lambdas=[]\n",
      "    loss_hist=[]\n",
      "    print \"Starting Loop\"\n",
      "    for i in range(-5,6):\n",
      "        Lambda = 10**i\n",
      "        print \"Lambda\",Lambda\n",
      "        Lambdas.append(Lambda)\n",
      "        w=lasso_func(X_train,y_train,Lambda)\n",
      "        loss=compute_loss(X_val,y_val,w)\n",
      "        loss_hist.append(loss)\n",
      "        \n",
      "        if t==0 or loss<=loss_opt:\n",
      "            loss_opt = loss\n",
      "            lambda_opt = Lambda\n",
      "            w_opt = w.copy()\n",
      "        t=t+1\n",
      "\n",
      "    test_loss = compute_loss(X_test,y_test, w_opt)\n",
      "    \n",
      "    print \"Best Lambda:\",lambda_opt\n",
      "    print \"Square Loss on Test Data:\", loss_opt\n",
      "    \n",
      "    return w_opt,Lambdas,loss_hist\n",
      "\n",
      "\n",
      "w_lasso,lambdas_lasso,loss_hist_lasso=Lambda_search(lasso_shooting)"
     ],
     "language": "python",
     "metadata": {},
     "outputs": [
      {
       "output_type": "stream",
       "stream": "stdout",
       "text": [
        "Starting Loop\n",
        "Lambda 1e-05\n",
        "Converged:"
       ]
      },
      {
       "output_type": "stream",
       "stream": "stdout",
       "text": [
        " False Iterations: 1000\n",
        "Lambda 0.0001\n",
        "Converged:"
       ]
      },
      {
       "output_type": "stream",
       "stream": "stdout",
       "text": [
        " False Iterations: 1000\n",
        "Lambda 0.001\n",
        "Converged:"
       ]
      },
      {
       "output_type": "stream",
       "stream": "stdout",
       "text": [
        " False Iterations: 1000\n",
        "Lambda 0.01\n",
        "Converged:"
       ]
      },
      {
       "output_type": "stream",
       "stream": "stdout",
       "text": [
        " False Iterations: 1000\n",
        "Lambda 0.1\n",
        "Converged:"
       ]
      },
      {
       "output_type": "stream",
       "stream": "stdout",
       "text": [
        " False Iterations: 1000\n",
        "Lambda 1\n",
        "Converged:"
       ]
      },
      {
       "output_type": "stream",
       "stream": "stdout",
       "text": [
        " True Iterations: 357\n",
        "Lambda 10\n",
        "Converged:"
       ]
      },
      {
       "output_type": "stream",
       "stream": "stdout",
       "text": [
        " True Iterations: 148\n",
        "Lambda 100\n",
        "Converged:"
       ]
      },
      {
       "output_type": "stream",
       "stream": "stdout",
       "text": [
        " True Iterations: 142\n",
        "Lambda 1000\n",
        "Converged:"
       ]
      },
      {
       "output_type": "stream",
       "stream": "stdout",
       "text": [
        " True Iterations: 251\n",
        "Lambda 10000\n",
        "Converged:"
       ]
      },
      {
       "output_type": "stream",
       "stream": "stdout",
       "text": [
        " True Iterations: 3\n",
        "Lambda 100000\n",
        "Converged:"
       ]
      },
      {
       "output_type": "stream",
       "stream": "stdout",
       "text": [
        " True Iterations: 2\n",
        "Best Lambda: 1\n",
        "Square Loss on Test Data: 0.00607817992338\n"
       ]
      }
     ],
     "prompt_number": 33
    },
    {
     "cell_type": "code",
     "collapsed": false,
     "input": [
      "plt.plot(lambdas_lasso,loss_hist_lasso)\n",
      "plt.xlabel('Lambda')\n",
      "plt.ylabel('Loss')\n",
      "plt.xscale('log')\n",
      "plt.xlim((1e-5,1e2))\n",
      "plt.ylim((0,20))\n",
      "plt.title('Lasso Shooting: Loss vs. Lambda')\n",
      "plt.show()"
     ],
     "language": "python",
     "metadata": {},
     "outputs": [
      {
       "metadata": {},
       "output_type": "display_data",
       "png": "[encoded data removed]",
       "text": [
        "<matplotlib.figure.Figure at 0x1079fb190>"
       ]
      }
     ],
     "prompt_number": 37
    },
    {
     "cell_type": "markdown",
     "metadata": {},
     "source": [
      "---\n",
      "\n",
      "2\\. Analyze the sparsity of your solution, reporting how many components with true value zero have been estimated to be non-zero, and vice-versa.\n",
      ">There were 7 cases where the true value zero has been estimated to be non-zero, but the reverse never happened.  "
     ]
    },
    {
     "cell_type": "code",
     "collapsed": false,
     "input": [
      "evaluate_theta_estimate(true_theta,w_lasso)"
     ],
     "language": "python",
     "metadata": {},
     "outputs": [
      {
       "output_type": "stream",
       "stream": "stdout",
       "text": [
        "tolerance 0\n",
        "True theta is zero, estimate is nonzero 7\n",
        "True theta is nonzero, estimate is zero 0\n"
       ]
      },
      {
       "metadata": {},
       "output_type": "pyout",
       "prompt_number": 38,
       "text": [
        "(7, 0)"
       ]
      }
     ],
     "prompt_number": 38
    },
    {
     "cell_type": "markdown",
     "metadata": {},
     "source": [
      "---\n",
      "3\\.Implement the homotopy method described above. Compare the runtime for computing the full regularization path (for the same set of \u03bb\u2019s chosen above) using the homotopy method compared to starting with the same intial point every time.\n",
      "> The time has improved from 454sec per run to 403sec per run.  "
     ]
    },
    {
     "cell_type": "code",
     "collapsed": false,
     "input": [
      "def get_lambda_max(X,y):\n",
      "    lambda_max = 2*np.linalg.norm(X.T*y,np.inf)\n",
      "    return lambda_max\n",
      "\n",
      "def homotopy_lambda_search():\n",
      "    \"\"\"\n",
      "    Runs lasso_shooting on a training set,\n",
      "    using Lambdas chosen through the homotopy method.\n",
      "    Selects the lambda that minimizes square error on the validation set.\n",
      "    Plots validation error vs. Lambda\n",
      "    Prints selected lambda along with corresponding test error.\n",
      "    \"\"\"\n",
      "    (N,D) = X_train.shape\n",
      "    lambda_max = get_lambda_max(X_train,y_train)\n",
      "    log_lambda_max = int(np.ceil(np.log10(lambda_max)))\n",
      "    #loop through array of lambdas\n",
      "    t=0\n",
      "    Lambdas=[]\n",
      "    loss_hist=[]\n",
      "    w=np.zeros(D)\n",
      "    for i in range(log_lambda_max,-5,-1):\n",
      "        w_old=w.copy()\n",
      "        Lambda = 10**i\n",
      "        print \"Lamba\",Lambda\n",
      "        Lambdas.append(Lambda)\n",
      "        w=lasso_shooting(X_train,y_train,Lambda,w_init=w_old)\n",
      "        loss=compute_loss(X_val,y_val, w)\n",
      "        loss_hist.append(loss)\n",
      "\n",
      "        if t==0 or loss<=loss_opt:\n",
      "            loss_opt = loss\n",
      "            lambda_opt = Lambda\n",
      "            w_opt = w.copy()\n",
      "        t=t+1\n",
      "\n",
      "    test_loss = compute_loss(X_test,y_test, w_opt)\n",
      "    \n",
      "    print \"Best Lambda:\",lambda_opt\n",
      "    print \"Square Loss on Test Data:\", loss_opt\n",
      "    \n",
      "    return w_opt,Lambdas,loss_hist\n",
      "    \n",
      "w_homotopy,lambdas_homotopy,loss_hist_homotopy = homotopy_lambda_search()\n",
      "\n",
      "plt.plot(lambdas_homotopy,loss_hist_homotopy)\n",
      "plt.xlabel('Lambda')\n",
      "plt.ylabel('Loss')\n",
      "plt.xscale('log')\n",
      "plt.title('Homotopy Loss vs. Lambda')\n",
      "plt.show()"
     ],
     "language": "python",
     "metadata": {},
     "outputs": []
    },
    {
     "cell_type": "code",
     "collapsed": false,
     "input": [
      "def timeme(func,iterations=1,*args,**kwargs):\n",
      "    \"\"\"\n",
      "    Timer wrapper.  Runs a given function, with arguments,\n",
      "    100 times and displays the average time per run.  \n",
      "    \"\"\"\n",
      "    def wrapper(func, *args, **kwargs):\n",
      "        def wrapped():\n",
      "            return func(*args, **kwargs)\n",
      "        return wrapped\n",
      "    wrapped = wrapper(func,*args,**kwargs)\n",
      "    run_time = float(timeit.timeit(wrapped, number=iterations))/iterations\n",
      "    print \"Avg time to run %s after %i trials: %i seconds per trial\" %(func,iterations,run_time)"
     ],
     "language": "python",
     "metadata": {},
     "outputs": [],
     "prompt_number": 40
    },
    {
     "cell_type": "code",
     "collapsed": false,
     "input": [
      "timeme(Lambda_search,1,lasso_shooting);\n",
      "timeme(homotopy_lambda_search,1);"
     ],
     "language": "python",
     "metadata": {},
     "outputs": [
      {
       "output_type": "stream",
       "stream": "stdout",
       "text": [
        "Starting Loop\n",
        "Lambda 1e-05\n",
        "Converged:"
       ]
      },
      {
       "output_type": "stream",
       "stream": "stdout",
       "text": [
        " False Iterations: 1000\n",
        "Lambda 0.0001\n",
        "Converged:"
       ]
      },
      {
       "output_type": "stream",
       "stream": "stdout",
       "text": [
        " False Iterations: 1000\n",
        "Lambda 0.001\n",
        "Converged:"
       ]
      },
      {
       "output_type": "stream",
       "stream": "stdout",
       "text": [
        " False Iterations: 1000\n",
        "Lambda 0.01\n",
        "Converged:"
       ]
      },
      {
       "output_type": "stream",
       "stream": "stdout",
       "text": [
        " False Iterations: 1000\n",
        "Lambda 0.1\n",
        "Converged:"
       ]
      },
      {
       "output_type": "stream",
       "stream": "stdout",
       "text": [
        " False Iterations: 1000\n",
        "Lambda 1\n",
        "Converged:"
       ]
      },
      {
       "output_type": "stream",
       "stream": "stdout",
       "text": [
        " True Iterations: 357\n",
        "Lambda 10\n",
        "Converged:"
       ]
      },
      {
       "output_type": "stream",
       "stream": "stdout",
       "text": [
        " True Iterations: 148\n",
        "Lambda 100\n",
        "Converged:"
       ]
      },
      {
       "output_type": "stream",
       "stream": "stdout",
       "text": [
        " True Iterations: 142\n",
        "Lambda 1000\n",
        "Converged:"
       ]
      },
      {
       "output_type": "stream",
       "stream": "stdout",
       "text": [
        " True Iterations: 251\n",
        "Lambda 10000\n",
        "Converged:"
       ]
      },
      {
       "output_type": "stream",
       "stream": "stdout",
       "text": [
        " True Iterations: 3\n",
        "Lambda 100000\n",
        "Converged:"
       ]
      },
      {
       "output_type": "stream",
       "stream": "stdout",
       "text": [
        " True Iterations: 2\n",
        "Best Lambda: 1\n",
        "Square Loss on Test Data: 0.00607817992338\n",
        "Avg time to run <function Lambda_search at 0x107a6d2a8> after 1 trials: 454 seconds per trial\n",
        "Lamba 10000\n",
        "Converged:"
       ]
      },
      {
       "output_type": "stream",
       "stream": "stdout",
       "text": [
        " True Iterations: 2\n",
        "Lamba 1000\n",
        "Converged:"
       ]
      },
      {
       "output_type": "stream",
       "stream": "stdout",
       "text": [
        " True Iterations: 251\n",
        "Lamba 100\n",
        "Converged:"
       ]
      },
      {
       "output_type": "stream",
       "stream": "stdout",
       "text": [
        " True Iterations: 143\n",
        "Lamba 10\n",
        "Converged:"
       ]
      },
      {
       "output_type": "stream",
       "stream": "stdout",
       "text": [
        " True Iterations: 214\n",
        "Lamba 1\n",
        "Converged:"
       ]
      },
      {
       "output_type": "stream",
       "stream": "stdout",
       "text": [
        " True Iterations: 411\n",
        "Lamba 0.1\n",
        "Converged:"
       ]
      },
      {
       "output_type": "stream",
       "stream": "stdout",
       "text": [
        " False Iterations: 1000\n",
        "Lamba 0.01\n",
        "Converged:"
       ]
      },
      {
       "output_type": "stream",
       "stream": "stdout",
       "text": [
        " False Iterations: 1000\n",
        "Lamba 0.001\n",
        "Converged:"
       ]
      },
      {
       "output_type": "stream",
       "stream": "stdout",
       "text": [
        " False Iterations: 1000\n",
        "Lamba 0.0001\n",
        "Converged:"
       ]
      },
      {
       "output_type": "stream",
       "stream": "stdout",
       "text": [
        " False Iterations: 1000\n",
        "Best Lambda: 1\n",
        "Square Loss on Test Data: 0.00607723555481\n",
        "Avg time to run <function homotopy_lambda_search at 0x10796b488> after 1 trials: 403 seconds per trial\n"
       ]
      }
     ],
     "prompt_number": 41
    },
    {
     "cell_type": "markdown",
     "metadata": {},
     "source": [
      "4\\. Derive matrix expressions for computing $a_j$ and $c_j$\n",
      "> $a_j = 2\\sum\\limits_{i=1}^n x_{ij}^2  =  2X_j^TX_j = 2[X^TX]_{j,j}$\n",
      "\n",
      "---\n",
      "> $c_j = 2\\sum\\limits_{i=1}^n x_{ij}(y_i - \\mathbf w^T\\mathbf x_i + w_jx_{ij})$ \n",
      "\n",
      ">$=2\\sum\\limits_{i=1}^n x_{ij}y_i - 2\\sum\\limits_{i=1}^n x_{ij}\\mathbf w^T\\mathbf x_i + 2\\sum\\limits_{i=1}^n x_{ij}w_jx_{ij}$\n",
      "\n",
      ">$=2X_j^T\\mathbf y - \\sum\\limits_{k=1}^d 2X_k^TX\\mathbf w + 2X_j^TX_jw_j$\n",
      "\n",
      ">$=2[X^T\\mathbf y]_j - \\sum\\limits_{k=1}^d 2[X^TX]_k\\mathbf w + 2[X^TX]_jw_j$"
     ]
    },
    {
     "cell_type": "markdown",
     "metadata": {},
     "source": [
      "---\n",
      "5\\. Implement the matrix expressions and measure the speedup to compute the regularization path.\n",
      ">Time improved from 454 sec per run to 180 sec per run.  "
     ]
    },
    {
     "cell_type": "code",
     "collapsed": false,
     "input": [
      "def lasso_shooting_matrix(X,y,Lambda, w_init=[], tolerance=1e-5):\n",
      "    \"\"\"\n",
      "    Takes training data and regularization Lambda,\n",
      "    performs coordinate descent for lasso, aka the \"shooting algorithm\",\n",
      "    and returns a vector of estimated weights\n",
      "    \"\"\"\n",
      "\n",
      "    (N,D) = X.shape\n",
      "    \n",
      "    if len(w_init)==0:\n",
      "        w=np.ones(D)\n",
      "    else: w=w_init\n",
      "    \n",
      "    maxIter = 1000\n",
      "    converged = False\n",
      "    iteration=1\n",
      "    a=c=0\n",
      "    while (converged==False) & (iteration<maxIter):\n",
      "        w_old = w.copy()\n",
      "        XTX = np.dot(X.T,X)\n",
      "        XTy = np.dot(X.T,y)\n",
      "        for j in range(D):\n",
      "            a=2*XTX[j,j]\n",
      "            c=2*XTy[j] - 2*np.dot(XTX[j,:],w) + 2*XTX[j,j]*w[j]\n",
      "            w[j]=soft(c/a,Lambda/a)\n",
      "            #X_i_sq = np.apply_along_axis(lambda x: x ** 2,1,X[i,:])\n",
      "            \n",
      "        iteration=iteration+1\n",
      "        converged = (sum(abs(w-w_old)) < tolerance)\n",
      "        \n",
      "    print \"Converged:\",converged,\"Iterations:\",iteration\n",
      "    return w"
     ],
     "language": "python",
     "metadata": {},
     "outputs": [],
     "prompt_number": 56
    },
    {
     "cell_type": "code",
     "collapsed": false,
     "input": [
      "timeme(Lambda_search,1,lasso_shooting_matrix);"
     ],
     "language": "python",
     "metadata": {},
     "outputs": [
      {
       "output_type": "stream",
       "stream": "stdout",
       "text": [
        "Starting Loop\n",
        "Lambda 1e-05\n",
        "Converged:"
       ]
      },
      {
       "output_type": "stream",
       "stream": "stdout",
       "text": [
        " False Iterations: 1000\n",
        "Lambda 0.0001\n",
        "Converged:"
       ]
      },
      {
       "output_type": "stream",
       "stream": "stdout",
       "text": [
        " False Iterations: 1000\n",
        "Lambda 0.001\n",
        "Converged:"
       ]
      },
      {
       "output_type": "stream",
       "stream": "stdout",
       "text": [
        " False Iterations: 1000\n",
        "Lambda 0.01\n",
        "Converged:"
       ]
      },
      {
       "output_type": "stream",
       "stream": "stdout",
       "text": [
        " False Iterations: 1000\n",
        "Lambda 0.1\n",
        "Converged:"
       ]
      },
      {
       "output_type": "stream",
       "stream": "stdout",
       "text": [
        " False Iterations: 1000\n",
        "Lambda 1\n",
        "Converged:"
       ]
      },
      {
       "output_type": "stream",
       "stream": "stdout",
       "text": [
        " True Iterations: 341\n",
        "Lambda 10\n",
        "Converged:"
       ]
      },
      {
       "output_type": "stream",
       "stream": "stdout",
       "text": [
        " True Iterations: 165\n",
        "Lambda 100\n",
        "Converged:"
       ]
      },
      {
       "output_type": "stream",
       "stream": "stdout",
       "text": [
        " True Iterations: 140\n",
        "Lambda 1000\n",
        "Converged:"
       ]
      },
      {
       "output_type": "stream",
       "stream": "stdout",
       "text": [
        " True Iterations: 258\n",
        "Lambda 10000\n",
        "Converged: True Iterations: 3\n",
        "Lambda 100000\n",
        "Converged: True Iterations: 2\n",
        "Best Lambda: 0.1\n",
        "Square Loss on Test Data: 0.00655720254995\n",
        "Avg time to run <function Lambda_search at 0x107a6d2a8> after 1 trials: 9 seconds per trial\n"
       ]
      }
     ],
     "prompt_number": 57
    },
    {
     "cell_type": "code",
     "collapsed": false,
     "input": [
      "w_lasso,lambdas_lasso,loss_hist_lasso = Lambda_search(lasso_shooting_matrix)\n",
      "\n",
      "plt.plot(lambdas_lasso,loss_hist_lasso)\n",
      "plt.xlabel('Lambda')\n",
      "plt.ylabel('Loss')\n",
      "plt.xscale('log')\n",
      "plt.xlim((1e-5,1e2))\n",
      "plt.ylim((0,20))\n",
      "plt.title('Lasso Shooting: Loss vs. Lambda')\n",
      "plt.show()"
     ],
     "language": "python",
     "metadata": {},
     "outputs": [
      {
       "output_type": "stream",
       "stream": "stdout",
       "text": [
        "Starting Loop\n",
        "Lambda 1e-05\n",
        "Converged:"
       ]
      },
      {
       "output_type": "stream",
       "stream": "stdout",
       "text": [
        " False Iterations: 1000\n",
        "Lambda 0.0001\n",
        "Converged:"
       ]
      },
      {
       "output_type": "stream",
       "stream": "stdout",
       "text": [
        " False Iterations: 1000\n",
        "Lambda 0.001\n",
        "Converged:"
       ]
      },
      {
       "output_type": "stream",
       "stream": "stdout",
       "text": [
        " False Iterations: 1000\n",
        "Lambda 0.01\n",
        "Converged:"
       ]
      },
      {
       "output_type": "stream",
       "stream": "stdout",
       "text": [
        " False Iterations: 1000\n",
        "Lambda 0.1\n",
        "Converged:"
       ]
      },
      {
       "output_type": "stream",
       "stream": "stdout",
       "text": [
        " False Iterations: 1000\n",
        "Lambda 1\n",
        "Converged:"
       ]
      },
      {
       "output_type": "stream",
       "stream": "stdout",
       "text": [
        " True Iterations: 354\n",
        "Lambda 10\n",
        "Converged:"
       ]
      },
      {
       "output_type": "stream",
       "stream": "stdout",
       "text": [
        " True Iterations: 165\n",
        "Lambda 100\n",
        "Converged:"
       ]
      },
      {
       "output_type": "stream",
       "stream": "stdout",
       "text": [
        " True Iterations: 140\n",
        "Lambda 1000\n",
        "Converged:"
       ]
      },
      {
       "output_type": "stream",
       "stream": "stdout",
       "text": [
        " True Iterations: 258\n",
        "Lambda 10000\n",
        "Converged: True Iterations: 3\n",
        "Lambda 100000\n",
        "Converged: True Iterations: 2\n",
        "Best Lambda: 1\n",
        "Square Loss on Test Data: 0.00661200914663\n"
       ]
      },
      {
       "metadata": {},
       "output_type": "display_data",
       "png": "[encoded data removed]",
       "text": [
        "<matplotlib.figure.Figure at 0x107aa5a90>"
       ]
      }
     ],
     "prompt_number": 58
    },
    {
     "cell_type": "markdown",
     "metadata": {},
     "source": [
      "---\n",
      "##2.3 Feature Correlation\n",
      "\n",
      "1. Derive the relation between $\\hat{\\theta}_i$ and $\\hat{\\theta}_j$, the $i^{th}$ and $j^{th}$ components of the optimal weight vector obtained by solving the Lasso optimization problem.  \n",
      "\n",
      ">Assume in the optimal solution that $\\hat{\\theta}_i=a$ and $\\hat{\\theta}_j=b$\n",
      "\n",
      ">The lasso objective function, below, must minimize both loss and regularization.  \n",
      "\n",
      ">$$\\sum\\limits_{k=1}^n (h(x_k) - y_k)^2 + \\lambda||w||_1$$\n",
      "\n",
      ">First consider the loss, $\\sum\\limits_{k=1}^n (h(x_k) - y_k)^2$, where $h(x_k)=\\mathbf w^Tx_k$\n",
      "\n",
      ">The loss due to $x_i$, $x_j$ is $\\sum\\limits_{k=1}^n (\\hat{\\theta}_iX_{ik} + \\hat{\\theta}_jX_{jk} - y_k)$\n",
      "\n",
      "> Since $X_i=X_j$, this simplifies to $\\sum\\limits_{k=1}^n ((\\hat{\\theta}_i + \\hat{\\theta}_j)X_{ik} - y_k)$\n",
      "\n",
      "> Thus the optimal values $a$ and $b$ must sum to another value $c$ that minimizes this expression $\\sum\\limits_{k=1}^n (cX_{ik} - y_k)$\n",
      "\n",
      "> Next we minimize the lasso regularization component, $\\lambda||w||_1 = \\lambda\\sum\\limits_{l=1}^d|w_l|$\n",
      "\n",
      "> The regularization penalty due to $x_i$, $x_j$ is $|a| + |b|$.  If $a$ and $b$ are of opposite sign, and both are nonzero, then $|a| + |b|$ > $|c| + |0|$, and the regularization penalty is not minimized.  Therefore $a$ and $b$ must be of the same sign and are constrained by optimal value $c$ such that $a+b=c$"
     ]
    },
    {
     "cell_type": "markdown",
     "metadata": {},
     "source": [
      "2\\. Derive the relation between $\\hat{\\theta}_i$ and $\\hat{\\theta}_j$, the $i^{th}$ and $j^{th}$ components of the optimal weight vector obtained by solving the ridge regression optimization problem.  \n",
      ">The ridge regression objective function, below, must minimize both loss and regularization.  \n",
      "\n",
      ">$$\\sum\\limits_{k=1}^n (h(x_k) - y_k)^2 + \\lambda||w||_2^2$$\n",
      "\n",
      ">The loss component is the same as with lasso, so we must minimize the regularization penalty subject to the same constraint as in lasso, which is that $a + b = c$\n",
      "\n",
      ">The regularization penalty due to $x_i$, $x_j$ is $a^2 + b^2$.  Next I will show that $a^2 + b^2 \\ge (\\frac{c}{2})^2 + (\\frac{c}{2})^2$, and therefore $a$ and $b$ must be equal to $\\frac{c}{2}=\\frac{a+b}{2}$ under these conditions.  \n",
      "\n",
      "> Claim: $a^2 + b^2 \\ge 2(\\frac{c}{2})^2$\n",
      "\n",
      ">Proof: $a^2 + b^2 = a^2 + (c-a)^2 $\n",
      "\n",
      ">$= a^2 + c^2 - 2ac + a^2$\n",
      "\n",
      ">$= 2a^2 + c^2 - 2ac$\n",
      "\n",
      ">$= \\frac{1}{2}(4a^2 - 4ac + 2c^2)$\n",
      "\n",
      ">$=\\frac{1}{2}(2a-c)^2 + \\frac{c^2}{2}$\n",
      "\n",
      ">$=\\frac{1}{2}(2a-c)^2 + 2(\\frac{c}{2})^2$\n",
      "\n",
      "> $\\frac{1}{2}(2a-c)^2 \\ge 0$, therefore $\\frac{1}{2}(2a-c)^2 + 2(\\frac{c}{2})^2 \\ge 2(\\frac{c}{2})^2$\n",
      "\n",
      "> Thus $a$ and $b$ must be equal."
     ]
    },
    {
     "cell_type": "markdown",
     "metadata": {},
     "source": [
      "# Feedback\n",
      "1. Approximately how long did it take to complete this assignment?\n",
      ">20 hours\n",
      "\n",
      "2. Any other feedback?\n",
      ">This is exhausting.  Thankfully this is my only class this term (I'm also working full-time)."
     ]
    }
   ],
   "metadata": {}
  }
 ]
}