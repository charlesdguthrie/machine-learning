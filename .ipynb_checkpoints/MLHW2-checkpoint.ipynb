{
 "metadata": {
  "name": "",
  "signature": "sha256:546f70fa9399be0bd2a5bde8764b177288077ed8aaf76fab6ee51ce143d94f2b"
 },
 "nbformat": 3,
 "nbformat_minor": 0,
 "worksheets": [
  {
   "cells": [
    {
     "cell_type": "code",
     "collapsed": false,
     "input": [
      "import numpy as np"
     ],
     "language": "python",
     "metadata": {},
     "outputs": [],
     "prompt_number": 1
    },
    {
     "cell_type": "code",
     "collapsed": false,
     "input": [
      "def create_design_matrix(train_examples,val_examples,test_examples,dimensions):\n",
      "    examples = train_examples + val_examples + test_examples\n",
      "    X = np.random.rand(examples,dimensions)\n",
      "    theta = np.zeros(dimensions)\n",
      "    theta[0:10] = [10,-10,10,10,-10,-10,10,10,10,-10]\n",
      "    y = np.dot(X,theta)\n",
      "    err = np.random.randn(len(y))*0.1\n",
      "    y = y + err\n",
      "    y = np.matrix(y)\n",
      "    data = np.concatenate((X, y.T), axis=1)\n",
      "    assert data.shape==(examples, dimensions+1), \"Data is wrong shape\"\n",
      "    \n",
      "    train = data[:train_examples,:]\n",
      "    val = data[train_examples:train_examples+val_examples,:]\n",
      "    test = data[train_examples + val_examples:,:]\n",
      "    return train, val, test\n",
      "\n",
      "train,val,test = create_design_matrix(80,20,50,75)\n",
      "print \"train\",train.shape\n",
      "print \"val\",val.shape\n",
      "print \"test\",test.shape"
     ],
     "language": "python",
     "metadata": {},
     "outputs": [
      {
       "output_type": "stream",
       "stream": "stdout",
       "text": [
        "train (80, 76)\n",
        "val (20, 76)\n",
        "test (50, 76)\n"
       ]
      }
     ],
     "prompt_number": 92
    },
    {
     "cell_type": "code",
     "collapsed": false,
     "input": [
      "np.random.randn?"
     ],
     "language": "python",
     "metadata": {},
     "outputs": [],
     "prompt_number": 75
    }
   ],
   "metadata": {}
  }
 ]
}